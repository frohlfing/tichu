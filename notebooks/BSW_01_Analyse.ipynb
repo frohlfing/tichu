{
 "cells": [
  {
   "metadata": {},
   "cell_type": "markdown",
   "source": "# Datenanalyse der Brettspielwelt-DB",
   "id": "42dff068a562fd05"
  },
  {
   "metadata": {},
   "cell_type": "markdown",
   "source": [
    "## Datenbestand\n",
    "\n",
    "### Datenbeschaffung\n",
    "\n",
    "Es stehen ca. 7 GB Logdateien vom Spiele-Portal \"Brettspielwelt\" zur Verfügung (seit 2007-01, alle Logdateien bis einschließlich 2025-07).\n",
    "Jede Logdatei hat die Daten einer Partie.\n",
    "\n",
    "Nach dem Download wurde jede Logdatei geparst (in ein Objekt eingelesen), validiert und in eine SQLite-DB gepumpt.\n",
    "Dieser Vorgang dauerte 16 Stunden und 37 Minuten (ca. 25ms / Partie).\n",
    "\n",
    "Dabei wurde gezählt:\n",
    "*   2.411.514 Logdateien insgesamt\n",
    "*   13.964 leere Logdateien (ohne verwertbare Daten)\n",
    "\n",
    "Die SQLite-Datenbankdatei ist 14.842.700 KB = 14,155 GB groß.\n",
    "\n",
    "### Anzahl Partien\n",
    "\n",
    "*   2.397.550 Partien insgesamt\n",
    "*   2.141.248 Partien fehlerfrei"
   ],
   "id": "cf2186a60e191e48"
  },
  {
   "metadata": {
    "SqlCellData": {
     "data_source_name": "bsw.sqlite",
     "variableName$1": "df_sql1"
    },
    "ExecuteTime": {
     "end_time": "2025-08-07T21:34:21.800386Z",
     "start_time": "2025-08-07T21:34:21.636102800Z"
    }
   },
   "cell_type": "code",
   "source": [
    "%%sql\n",
    "select count(*) as Partien from games;"
   ],
   "id": "23bf270c28965359",
   "outputs": [
    {
     "data": {
      "text/plain": [
       "   Partien\n",
       "0  2397550"
      ],
      "text/html": [
       "<div>\n",
       "<style scoped>\n",
       "    .dataframe tbody tr th:only-of-type {\n",
       "        vertical-align: middle;\n",
       "    }\n",
       "\n",
       "    .dataframe tbody tr th {\n",
       "        vertical-align: top;\n",
       "    }\n",
       "\n",
       "    .dataframe thead th {\n",
       "        text-align: right;\n",
       "    }\n",
       "</style>\n",
       "<table border=\"1\" class=\"dataframe\">\n",
       "  <thead>\n",
       "    <tr style=\"text-align: right;\">\n",
       "      <th></th>\n",
       "      <th>Partien</th>\n",
       "    </tr>\n",
       "  </thead>\n",
       "  <tbody>\n",
       "    <tr>\n",
       "      <th>0</th>\n",
       "      <td>2397550</td>\n",
       "    </tr>\n",
       "  </tbody>\n",
       "</table>\n",
       "</div>"
      ]
     },
     "execution_count": 21,
     "metadata": {},
     "output_type": "execute_result"
    }
   ],
   "execution_count": 21
  },
  {
   "metadata": {
    "SqlCellData": {
     "data_source_name": "bsw.sqlite",
     "variableName$1": "df_sql4"
    },
    "ExecuteTime": {
     "end_time": "2025-08-08T23:33:55.060648Z",
     "start_time": "2025-08-08T23:33:47.623669Z"
    }
   },
   "cell_type": "code",
   "source": [
    "%%sql\n",
    "select g.error_code as Code, e.name as Fehler, count(*) as Anzahl, e.description as Beschreibung\n",
    "from games as g\n",
    "left join errors as e on g.error_code = e.code\n",
    "group by g.error_code\n",
    "order by g.error_code;"
   ],
   "id": "7369de4df74fef50",
   "outputs": [
    {
     "data": {
      "text/plain": [
       "   Code             Fehler   Anzahl  \\\n",
       "0     0           NO_ERROR  2141248   \n",
       "1    70  GAME_NOT_FINISHED    76658   \n",
       "2    71    GAME_OVERPLAYED     1926   \n",
       "3    80       ROUND_FAILED    21760   \n",
       "4    90     PLAYER_CHANGED   155958   \n",
       "\n",
       "                                        Beschreibung  \n",
       "0                                        Kein Fehler  \n",
       "1                      Partie nicht zu Ende gespielt  \n",
       "2  Ein oder mehrere Runden gespielt, obwohl die P...  \n",
       "3               Mindestens eine Runde ist fehlerhaft  \n",
       "4  Mindestens ein Spieler hat während der Partie ...  "
      ],
      "text/html": [
       "<div>\n",
       "<style scoped>\n",
       "    .dataframe tbody tr th:only-of-type {\n",
       "        vertical-align: middle;\n",
       "    }\n",
       "\n",
       "    .dataframe tbody tr th {\n",
       "        vertical-align: top;\n",
       "    }\n",
       "\n",
       "    .dataframe thead th {\n",
       "        text-align: right;\n",
       "    }\n",
       "</style>\n",
       "<table border=\"1\" class=\"dataframe\">\n",
       "  <thead>\n",
       "    <tr style=\"text-align: right;\">\n",
       "      <th></th>\n",
       "      <th>Code</th>\n",
       "      <th>Fehler</th>\n",
       "      <th>Anzahl</th>\n",
       "      <th>Beschreibung</th>\n",
       "    </tr>\n",
       "  </thead>\n",
       "  <tbody>\n",
       "    <tr>\n",
       "      <th>0</th>\n",
       "      <td>0</td>\n",
       "      <td>NO_ERROR</td>\n",
       "      <td>2141248</td>\n",
       "      <td>Kein Fehler</td>\n",
       "    </tr>\n",
       "    <tr>\n",
       "      <th>1</th>\n",
       "      <td>70</td>\n",
       "      <td>GAME_NOT_FINISHED</td>\n",
       "      <td>76658</td>\n",
       "      <td>Partie nicht zu Ende gespielt</td>\n",
       "    </tr>\n",
       "    <tr>\n",
       "      <th>2</th>\n",
       "      <td>71</td>\n",
       "      <td>GAME_OVERPLAYED</td>\n",
       "      <td>1926</td>\n",
       "      <td>Ein oder mehrere Runden gespielt, obwohl die P...</td>\n",
       "    </tr>\n",
       "    <tr>\n",
       "      <th>3</th>\n",
       "      <td>80</td>\n",
       "      <td>ROUND_FAILED</td>\n",
       "      <td>21760</td>\n",
       "      <td>Mindestens eine Runde ist fehlerhaft</td>\n",
       "    </tr>\n",
       "    <tr>\n",
       "      <th>4</th>\n",
       "      <td>90</td>\n",
       "      <td>PLAYER_CHANGED</td>\n",
       "      <td>155958</td>\n",
       "      <td>Mindestens ein Spieler hat während der Partie ...</td>\n",
       "    </tr>\n",
       "  </tbody>\n",
       "</table>\n",
       "</div>"
      ]
     },
     "execution_count": 1,
     "metadata": {},
     "output_type": "execute_result"
    }
   ],
   "execution_count": 1
  },
  {
   "metadata": {},
   "cell_type": "markdown",
   "source": [
    "## Runden\n",
    "\n",
    "*   22.458.253 Runden insgesamt.\n",
    "*   22.416.517 Runden fehlerfrei\n",
    "*   20.186.515 Runden unter den fehlerfreien Partien (durchschnittlich 9,4 Runden / Partie)."
   ],
   "id": "75829482eac5408f"
  },
  {
   "metadata": {
    "SqlCellData": {
     "variableName$1": "df_sql8"
    }
   },
   "cell_type": "code",
   "outputs": [
    {
     "data": {
      "text/plain": [
       "     Runden\n",
       "0  22458253"
      ],
      "text/html": [
       "<div>\n",
       "<style scoped>\n",
       "    .dataframe tbody tr th:only-of-type {\n",
       "        vertical-align: middle;\n",
       "    }\n",
       "\n",
       "    .dataframe tbody tr th {\n",
       "        vertical-align: top;\n",
       "    }\n",
       "\n",
       "    .dataframe thead th {\n",
       "        text-align: right;\n",
       "    }\n",
       "</style>\n",
       "<table border=\"1\" class=\"dataframe\">\n",
       "  <thead>\n",
       "    <tr style=\"text-align: right;\">\n",
       "      <th></th>\n",
       "      <th>Runden</th>\n",
       "    </tr>\n",
       "  </thead>\n",
       "  <tbody>\n",
       "    <tr>\n",
       "      <th>0</th>\n",
       "      <td>22458253</td>\n",
       "    </tr>\n",
       "  </tbody>\n",
       "</table>\n",
       "</div>"
      ]
     },
     "execution_count": 48,
     "metadata": {},
     "output_type": "execute_result"
    }
   ],
   "execution_count": 48,
   "source": [
    "%%sql\n",
    "select count(*) as Runden from rounds;"
   ],
   "id": "1c4ec7663793636c"
  },
  {
   "metadata": {
    "SqlCellData": {
     "data_source_name": "bsw.sqlite",
     "variableName$1": "df_sql5"
    },
    "ExecuteTime": {
     "end_time": "2025-08-09T00:02:58.216107Z",
     "start_time": "2025-08-09T00:02:56.507581500Z"
    }
   },
   "cell_type": "code",
   "source": [
    "%%sql\n",
    "select r.error_code as Code, e.name as Fehler, count(*) as Anzahl, e.description as Beschreibung\n",
    "from rounds as r\n",
    "left join errors as e on r.error_code = e.code\n",
    "group by r.error_code\n",
    "order by r.error_code;"
   ],
   "id": "2b2690d0681fed66",
   "outputs": [
    {
     "data": {
      "text/plain": [
       "   Code                     Fehler    Anzahl  \\\n",
       "0     0                   NO_ERROR  22416517   \n",
       "1    12             DUPLICATE_CARD        10   \n",
       "2    21          WISH_NOT_FOLLOWED       209   \n",
       "3    23  SMALLER_OF_AMBIGUOUS_RANK     21267   \n",
       "4    24         PLAYER_NOT_ON_TURN         2   \n",
       "5    26           HISTORY_TOO_LONG        60   \n",
       "6    31   DRAGON_GIVEN_TO_OWN_TEAM       306   \n",
       "7    50  ANNOUNCEMENT_NOT_POSSIBLE       286   \n",
       "8    60         SCORE_NOT_POSSIBLE     17234   \n",
       "9    61             SCORE_MISMATCH      2362   \n",
       "\n",
       "                                        Beschreibung  \n",
       "0                                        Kein Fehler  \n",
       "1                          Karten mehrmals vorhanden  \n",
       "2                              Wunsch nicht beachtet  \n",
       "3  Es wurde der kleinere Rang bei einem mehrdeuti...  \n",
       "4                       Der Spieler ist nicht am Zug  \n",
       "5  Karten ausgespielt, obwohl die Runde vorbei is...  \n",
       "6                  Drache an eigenes Team verschenkt  \n",
       "7  Tichu-Ansage an der geloggten Position nicht m...  \n",
       "8  Rechenfehler! Geloggtes Rundenergebnis ist nic...  \n",
       "9  Geloggtes Rundenergebnis stimmt nicht mit dem ...  "
      ],
      "text/html": [
       "<div>\n",
       "<style scoped>\n",
       "    .dataframe tbody tr th:only-of-type {\n",
       "        vertical-align: middle;\n",
       "    }\n",
       "\n",
       "    .dataframe tbody tr th {\n",
       "        vertical-align: top;\n",
       "    }\n",
       "\n",
       "    .dataframe thead th {\n",
       "        text-align: right;\n",
       "    }\n",
       "</style>\n",
       "<table border=\"1\" class=\"dataframe\">\n",
       "  <thead>\n",
       "    <tr style=\"text-align: right;\">\n",
       "      <th></th>\n",
       "      <th>Code</th>\n",
       "      <th>Fehler</th>\n",
       "      <th>Anzahl</th>\n",
       "      <th>Beschreibung</th>\n",
       "    </tr>\n",
       "  </thead>\n",
       "  <tbody>\n",
       "    <tr>\n",
       "      <th>0</th>\n",
       "      <td>0</td>\n",
       "      <td>NO_ERROR</td>\n",
       "      <td>22416517</td>\n",
       "      <td>Kein Fehler</td>\n",
       "    </tr>\n",
       "    <tr>\n",
       "      <th>1</th>\n",
       "      <td>12</td>\n",
       "      <td>DUPLICATE_CARD</td>\n",
       "      <td>10</td>\n",
       "      <td>Karten mehrmals vorhanden</td>\n",
       "    </tr>\n",
       "    <tr>\n",
       "      <th>2</th>\n",
       "      <td>21</td>\n",
       "      <td>WISH_NOT_FOLLOWED</td>\n",
       "      <td>209</td>\n",
       "      <td>Wunsch nicht beachtet</td>\n",
       "    </tr>\n",
       "    <tr>\n",
       "      <th>3</th>\n",
       "      <td>23</td>\n",
       "      <td>SMALLER_OF_AMBIGUOUS_RANK</td>\n",
       "      <td>21267</td>\n",
       "      <td>Es wurde der kleinere Rang bei einem mehrdeuti...</td>\n",
       "    </tr>\n",
       "    <tr>\n",
       "      <th>4</th>\n",
       "      <td>24</td>\n",
       "      <td>PLAYER_NOT_ON_TURN</td>\n",
       "      <td>2</td>\n",
       "      <td>Der Spieler ist nicht am Zug</td>\n",
       "    </tr>\n",
       "    <tr>\n",
       "      <th>5</th>\n",
       "      <td>26</td>\n",
       "      <td>HISTORY_TOO_LONG</td>\n",
       "      <td>60</td>\n",
       "      <td>Karten ausgespielt, obwohl die Runde vorbei is...</td>\n",
       "    </tr>\n",
       "    <tr>\n",
       "      <th>6</th>\n",
       "      <td>31</td>\n",
       "      <td>DRAGON_GIVEN_TO_OWN_TEAM</td>\n",
       "      <td>306</td>\n",
       "      <td>Drache an eigenes Team verschenkt</td>\n",
       "    </tr>\n",
       "    <tr>\n",
       "      <th>7</th>\n",
       "      <td>50</td>\n",
       "      <td>ANNOUNCEMENT_NOT_POSSIBLE</td>\n",
       "      <td>286</td>\n",
       "      <td>Tichu-Ansage an der geloggten Position nicht m...</td>\n",
       "    </tr>\n",
       "    <tr>\n",
       "      <th>8</th>\n",
       "      <td>60</td>\n",
       "      <td>SCORE_NOT_POSSIBLE</td>\n",
       "      <td>17234</td>\n",
       "      <td>Rechenfehler! Geloggtes Rundenergebnis ist nic...</td>\n",
       "    </tr>\n",
       "    <tr>\n",
       "      <th>9</th>\n",
       "      <td>61</td>\n",
       "      <td>SCORE_MISMATCH</td>\n",
       "      <td>2362</td>\n",
       "      <td>Geloggtes Rundenergebnis stimmt nicht mit dem ...</td>\n",
       "    </tr>\n",
       "  </tbody>\n",
       "</table>\n",
       "</div>"
      ]
     },
     "execution_count": 6,
     "metadata": {},
     "output_type": "execute_result"
    }
   ],
   "execution_count": 6
  },
  {
   "metadata": {
    "SqlCellData": {
     "data_source_name": "bsw.sqlite",
     "variableName$1": "df_sql9"
    },
    "ExecuteTime": {
     "end_time": "2025-08-08T23:45:57.573189Z",
     "start_time": "2025-08-08T23:45:43.581318100Z"
    }
   },
   "cell_type": "code",
   "source": [
    "%%sql\n",
    "select count(*) as Runden\n",
    "from rounds as r\n",
    "inner join games as g on g.id = r.game_id\n",
    "where g.error_code = 0;"
   ],
   "id": "178dead0b384d0c4",
   "outputs": [
    {
     "data": {
      "text/plain": [
       "     Runden\n",
       "0  20186515"
      ],
      "text/html": [
       "<div>\n",
       "<style scoped>\n",
       "    .dataframe tbody tr th:only-of-type {\n",
       "        vertical-align: middle;\n",
       "    }\n",
       "\n",
       "    .dataframe tbody tr th {\n",
       "        vertical-align: top;\n",
       "    }\n",
       "\n",
       "    .dataframe thead th {\n",
       "        text-align: right;\n",
       "    }\n",
       "</style>\n",
       "<table border=\"1\" class=\"dataframe\">\n",
       "  <thead>\n",
       "    <tr style=\"text-align: right;\">\n",
       "      <th></th>\n",
       "      <th>Runden</th>\n",
       "    </tr>\n",
       "  </thead>\n",
       "  <tbody>\n",
       "    <tr>\n",
       "      <th>0</th>\n",
       "      <td>20186515</td>\n",
       "    </tr>\n",
       "  </tbody>\n",
       "</table>\n",
       "</div>"
      ]
     },
     "execution_count": 4,
     "metadata": {},
     "output_type": "execute_result"
    }
   ],
   "execution_count": 4
  },
  {
   "metadata": {
    "ExecuteTime": {
     "end_time": "2025-08-08T00:43:42.725030Z",
     "start_time": "2025-08-08T00:43:42.719194Z"
    }
   },
   "cell_type": "code",
   "source": "20186515 / 2141248",
   "id": "a9b9be4583d8925e",
   "outputs": [
    {
     "data": {
      "text/plain": [
       "9.427453055414412"
      ]
     },
     "execution_count": 3,
     "metadata": {},
     "output_type": "execute_result"
    }
   ],
   "execution_count": 3
  },
  {
   "metadata": {},
   "cell_type": "markdown",
   "source": [
    "### Spieler\n",
    "\n",
    "*   128.462 Spieler insgesamt\n",
    "*   110.932 Spieler, die eine fehlerfreie Partie durchgespielt haben"
   ],
   "id": "4c2d4b3779209e19"
  },
  {
   "metadata": {
    "SqlCellData": {
     "data_source_name": "bsw.sqlite",
     "variableName$1": "df_sql2"
    },
    "ExecuteTime": {
     "end_time": "2025-08-08T00:53:42.299612Z",
     "start_time": "2025-08-08T00:53:42.125034700Z"
    }
   },
   "cell_type": "code",
   "source": [
    "%%sql\n",
    "select count(*) as Spieler from players;"
   ],
   "id": "dd71f0daeacaae3",
   "outputs": [
    {
     "data": {
      "text/plain": [
       "   Spieler\n",
       "0   128462"
      ],
      "text/html": [
       "<div>\n",
       "<style scoped>\n",
       "    .dataframe tbody tr th:only-of-type {\n",
       "        vertical-align: middle;\n",
       "    }\n",
       "\n",
       "    .dataframe tbody tr th {\n",
       "        vertical-align: top;\n",
       "    }\n",
       "\n",
       "    .dataframe thead th {\n",
       "        text-align: right;\n",
       "    }\n",
       "</style>\n",
       "<table border=\"1\" class=\"dataframe\">\n",
       "  <thead>\n",
       "    <tr style=\"text-align: right;\">\n",
       "      <th></th>\n",
       "      <th>Spieler</th>\n",
       "    </tr>\n",
       "  </thead>\n",
       "  <tbody>\n",
       "    <tr>\n",
       "      <th>0</th>\n",
       "      <td>128462</td>\n",
       "    </tr>\n",
       "  </tbody>\n",
       "</table>\n",
       "</div>"
      ]
     },
     "execution_count": 9,
     "metadata": {},
     "output_type": "execute_result"
    }
   ],
   "execution_count": 9
  },
  {
   "metadata": {
    "SqlCellData": {
     "data_source_name": "bsw.sqlite",
     "variableName$1": "df_sql3"
    },
    "ExecuteTime": {
     "end_time": "2025-08-08T23:49:24.097700Z",
     "start_time": "2025-08-08T23:49:20.562231600Z"
    }
   },
   "cell_type": "code",
   "source": [
    "%%sql\n",
    "select count(*)\n",
    "from (\n",
    "select player_id_0 from games where error_code = 0\n",
    "union\n",
    "select player_id_1 from games where error_code = 0\n",
    "union\n",
    "select player_id_2 from games where error_code = 0\n",
    "union\n",
    "select player_id_3 from games where error_code = 0\n",
    ") as sub;\n"
   ],
   "id": "a10e6a3595752bd8",
   "outputs": [
    {
     "data": {
      "text/plain": [
       "   count(*)\n",
       "0    110932"
      ],
      "text/html": [
       "<div>\n",
       "<style scoped>\n",
       "    .dataframe tbody tr th:only-of-type {\n",
       "        vertical-align: middle;\n",
       "    }\n",
       "\n",
       "    .dataframe tbody tr th {\n",
       "        vertical-align: top;\n",
       "    }\n",
       "\n",
       "    .dataframe thead th {\n",
       "        text-align: right;\n",
       "    }\n",
       "</style>\n",
       "<table border=\"1\" class=\"dataframe\">\n",
       "  <thead>\n",
       "    <tr style=\"text-align: right;\">\n",
       "      <th></th>\n",
       "      <th>count(*)</th>\n",
       "    </tr>\n",
       "  </thead>\n",
       "  <tbody>\n",
       "    <tr>\n",
       "      <th>0</th>\n",
       "      <td>110932</td>\n",
       "    </tr>\n",
       "  </tbody>\n",
       "</table>\n",
       "</div>"
      ]
     },
     "execution_count": 5,
     "metadata": {},
     "output_type": "execute_result"
    }
   ],
   "execution_count": 5
  },
  {
   "metadata": {},
   "cell_type": "code",
   "outputs": [],
   "execution_count": null,
   "source": "",
   "id": "706f3189bb27e80"
  }
 ],
 "metadata": {
  "kernelspec": {
   "display_name": "Python 3",
   "language": "python",
   "name": "python3"
  },
  "language_info": {
   "codemirror_mode": {
    "name": "ipython",
    "version": 2
   },
   "file_extension": ".py",
   "mimetype": "text/x-python",
   "name": "python",
   "nbconvert_exporter": "python",
   "pygments_lexer": "ipython2",
   "version": "2.7.6"
  }
 },
 "nbformat": 4,
 "nbformat_minor": 5
}
