{
 "cells": [
  {
   "metadata": {},
   "cell_type": "markdown",
   "source": "# Datenanalyse der Brettspielwelt-DB",
   "id": "42dff068a562fd05"
  },
  {
   "metadata": {},
   "cell_type": "markdown",
   "source": [
    "## 1. Datenbestand\n",
    "\n",
    "Es stehen ca. 7 GB Logdateien vom Spiele-Portal \"Brettspielwelt\" zur Verfügung (seit 2007-01, alle Logdateien bis einschließlich 2025-07).\n",
    "Jede Logdatei hat die Daten einer Partie.\n",
    "\n",
    "Nach dem Download wurde jede Logdatei geparst (in ein Objekt eingelesen), validiert und in eine SQLite-DB gepumpt.\n",
    "Dieser Vorgang dauerte ca. 20 Stunden (wobei die Indezies der DB aus Versehen bereits vor dem Import angelegt wurden - dadurch hat es schätzungsweise 4 Stunden länger gedauert):\n",
    "\n",
    "```\n",
    "C:\\Users\\frank\\Source\\PyCharm\\tichu\\.venv\\Scripts\\python.exe C:\\Users\\frank\\Source\\PyCharm\\tichu\\bin\\bsw_import.py --ym1 2007-01 --ym2 2025-07\n",
    "BSW Importer\n",
    "Ab Datum: 2007-01\n",
    "Bis Datum: 2025-07\n",
    "Zip-Archiven: C:\\Users\\frank\\Source\\PyCharm\\tichu\\data\\bsw\\tichulog\n",
    "SQLite-Datenbank: C:\\Users\\frank\\Source\\PyCharm\\tichu\\data\\bsw\\bsw.sqlite\n",
    "Importiere Log-Dateien: 100%|██████████| 2411514/2411514 [19:47:30<00:00, 33.85 Datei/s, Logdateien=2411514, Leere=13964, Fehler=79663, Datei=202507/2411561.tch]\n",
    "Aggregiere Daten für Spieler: 100%|██████████| 128462/128462 [42:27<00:00, 50.43 Spieler/s]\n",
    "fertig\n",
    "\n",
    "Process finished with exit code 0\n",
    "```\n",
    "\n",
    "Dabei wurde gezählt:\n",
    "*   2.411.514 Logdateien insgesamt\n",
    "*   13.964 leere Logdateien (ohne verwertbare Daten)\n",
    "\n",
    "Die SQLite-Datenbankdatei ist 17.085.088 KB = 16,294 GB groß."
   ],
   "id": "cf2186a60e191e48"
  },
  {
   "metadata": {},
   "cell_type": "markdown",
   "source": [
    "### 1.3 Anzahl Partien\n",
    "\n",
    "*   2.397.550 Partien insgesamt\n",
    "*   2.317.887 Partien fehlerfrei (vorher: 2.139.529, Diff: 178.358, darin waren 155747 PLAYED_CHANGED,\n",
    "bleibt Diff=22.611, darunter 21.267 PHOENIX_LOW, bleibt 1.344"
   ],
   "id": "38999b63effacfaf"
  },
  {
   "metadata": {
    "SqlCellData": {
     "data_source_name": "bsw.sqlite",
     "variableName$1": "df_sql1"
    },
    "ExecuteTime": {
     "end_time": "2025-08-20T01:35:46.310719Z",
     "start_time": "2025-08-20T01:35:36.495140800Z"
    }
   },
   "cell_type": "code",
   "source": [
    "%%sql\n",
    "-- Anzahl Partien gesamt\n",
    "select count(*) as Partien from games;"
   ],
   "id": "23bf270c28965359",
   "outputs": [
    {
     "data": {
      "text/plain": [
       "   Partien\n",
       "0  2397550"
      ],
      "text/html": [
       "<div>\n",
       "<style scoped>\n",
       "    .dataframe tbody tr th:only-of-type {\n",
       "        vertical-align: middle;\n",
       "    }\n",
       "\n",
       "    .dataframe tbody tr th {\n",
       "        vertical-align: top;\n",
       "    }\n",
       "\n",
       "    .dataframe thead th {\n",
       "        text-align: right;\n",
       "    }\n",
       "</style>\n",
       "<table border=\"1\" class=\"dataframe\">\n",
       "  <thead>\n",
       "    <tr style=\"text-align: right;\">\n",
       "      <th></th>\n",
       "      <th>Partien</th>\n",
       "    </tr>\n",
       "  </thead>\n",
       "  <tbody>\n",
       "    <tr>\n",
       "      <th>0</th>\n",
       "      <td>2397550</td>\n",
       "    </tr>\n",
       "  </tbody>\n",
       "</table>\n",
       "</div>"
      ]
     },
     "execution_count": 1,
     "metadata": {},
     "output_type": "execute_result"
    }
   ],
   "execution_count": 1
  },
  {
   "metadata": {
    "SqlCellData": {
     "data_source_name": "bsw.sqlite",
     "variableName$1": "df_sql4"
    },
    "ExecuteTime": {
     "end_time": "2025-08-20T01:36:21.633757Z",
     "start_time": "2025-08-20T01:36:20.892751500Z"
    }
   },
   "cell_type": "code",
   "source": [
    "%%sql\n",
    "-- Anzahl Partien groupiert nach Fehlern\n",
    "select g.error_code as Code, e.name as Fehler, count(*) as Anzahl, e.description as Beschreibung\n",
    "from games as g\n",
    "left join errors as e on g.error_code = e.code\n",
    "group by g.error_code\n",
    "order by g.error_code;"
   ],
   "id": "7369de4df74fef50",
   "outputs": [
    {
     "data": {
      "text/plain": [
       "   Code             Fehler   Anzahl  \\\n",
       "0     0           NO_ERROR  2317887   \n",
       "1    70  GAME_NOT_FINISHED    66718   \n",
       "2    71    GAME_OVERPLAYED     1907   \n",
       "3    80       ROUND_FAILED    11038   \n",
       "\n",
       "                                        Beschreibung  \n",
       "0                                        Kein Fehler  \n",
       "1                     Partie nicht zu Ende gespielt.  \n",
       "2  Ein oder mehrere Runden gespielt, obwohl die P...  \n",
       "3              Mindestens eine Runde ist fehlerhaft.  "
      ],
      "text/html": [
       "<div>\n",
       "<style scoped>\n",
       "    .dataframe tbody tr th:only-of-type {\n",
       "        vertical-align: middle;\n",
       "    }\n",
       "\n",
       "    .dataframe tbody tr th {\n",
       "        vertical-align: top;\n",
       "    }\n",
       "\n",
       "    .dataframe thead th {\n",
       "        text-align: right;\n",
       "    }\n",
       "</style>\n",
       "<table border=\"1\" class=\"dataframe\">\n",
       "  <thead>\n",
       "    <tr style=\"text-align: right;\">\n",
       "      <th></th>\n",
       "      <th>Code</th>\n",
       "      <th>Fehler</th>\n",
       "      <th>Anzahl</th>\n",
       "      <th>Beschreibung</th>\n",
       "    </tr>\n",
       "  </thead>\n",
       "  <tbody>\n",
       "    <tr>\n",
       "      <th>0</th>\n",
       "      <td>0</td>\n",
       "      <td>NO_ERROR</td>\n",
       "      <td>2317887</td>\n",
       "      <td>Kein Fehler</td>\n",
       "    </tr>\n",
       "    <tr>\n",
       "      <th>1</th>\n",
       "      <td>70</td>\n",
       "      <td>GAME_NOT_FINISHED</td>\n",
       "      <td>66718</td>\n",
       "      <td>Partie nicht zu Ende gespielt.</td>\n",
       "    </tr>\n",
       "    <tr>\n",
       "      <th>2</th>\n",
       "      <td>71</td>\n",
       "      <td>GAME_OVERPLAYED</td>\n",
       "      <td>1907</td>\n",
       "      <td>Ein oder mehrere Runden gespielt, obwohl die P...</td>\n",
       "    </tr>\n",
       "    <tr>\n",
       "      <th>3</th>\n",
       "      <td>80</td>\n",
       "      <td>ROUND_FAILED</td>\n",
       "      <td>11038</td>\n",
       "      <td>Mindestens eine Runde ist fehlerhaft.</td>\n",
       "    </tr>\n",
       "  </tbody>\n",
       "</table>\n",
       "</div>"
      ]
     },
     "execution_count": 2,
     "metadata": {},
     "output_type": "execute_result"
    }
   ],
   "execution_count": 2
  },
  {
   "metadata": {},
   "cell_type": "markdown",
   "source": [
    "### 1.2 Anzahl Runden\n",
    "\n",
    "*   22.458.253 Runden insgesamt.\n",
    "*   22.437.758 Runden fehlerfrei (vorher 22.414.499, Diff = 23.259, darunter 21.267 PHOENIX_LOW, bleibt 1992, darunter 2018 Tichu-Suizid, bleibt -26 Überlappung mit SCORE-Fehler)\n",
    "*   22.000.517 Runden unter den fehlerfreien Partien (durchschnittlich 9,5 Runden / Partie). (vorher 20.169.053)\n",
    "*   88.002.068 \"Perspektiv-Runden\""
   ],
   "id": "75829482eac5408f"
  },
  {
   "metadata": {
    "SqlCellData": {
     "data_source_name": "bsw.sqlite",
     "variableName$1": "df_sql8"
    },
    "ExecuteTime": {
     "end_time": "2025-08-20T01:47:11.690502Z",
     "start_time": "2025-08-20T01:47:11.308508200Z"
    }
   },
   "cell_type": "code",
   "source": [
    "%%sql\n",
    "-- Anzahl Runden gesamt\n",
    "select count(*) as Runden from rounds;"
   ],
   "id": "1c4ec7663793636c",
   "outputs": [
    {
     "data": {
      "text/plain": [
       "     Runden\n",
       "0  22458253"
      ],
      "text/html": [
       "<div>\n",
       "<style scoped>\n",
       "    .dataframe tbody tr th:only-of-type {\n",
       "        vertical-align: middle;\n",
       "    }\n",
       "\n",
       "    .dataframe tbody tr th {\n",
       "        vertical-align: top;\n",
       "    }\n",
       "\n",
       "    .dataframe thead th {\n",
       "        text-align: right;\n",
       "    }\n",
       "</style>\n",
       "<table border=\"1\" class=\"dataframe\">\n",
       "  <thead>\n",
       "    <tr style=\"text-align: right;\">\n",
       "      <th></th>\n",
       "      <th>Runden</th>\n",
       "    </tr>\n",
       "  </thead>\n",
       "  <tbody>\n",
       "    <tr>\n",
       "      <th>0</th>\n",
       "      <td>22458253</td>\n",
       "    </tr>\n",
       "  </tbody>\n",
       "</table>\n",
       "</div>"
      ]
     },
     "execution_count": 3,
     "metadata": {},
     "output_type": "execute_result"
    }
   ],
   "execution_count": 3
  },
  {
   "metadata": {
    "SqlCellData": {
     "data_source_name": "bsw.sqlite",
     "variableName$1": "df_sql5"
    },
    "ExecuteTime": {
     "end_time": "2025-08-20T01:47:43.229388Z",
     "start_time": "2025-08-20T01:47:41.490182400Z"
    }
   },
   "cell_type": "code",
   "source": [
    "%%sql\n",
    "-- Anzahl Runden groupiert nach Fehlern\n",
    "select r.error_code as Code, e.name as Fehler, count(*) as Anzahl, e.description as Beschreibung\n",
    "from rounds as r\n",
    "left join errors as e on r.error_code = e.code\n",
    "group by r.error_code\n",
    "order by r.error_code;"
   ],
   "id": "2b2690d0681fed66",
   "outputs": [
    {
     "data": {
      "text/plain": [
       "   Code                     Fehler    Anzahl  \\\n",
       "0     0                   NO_ERROR  22437758   \n",
       "1    12             DUPLICATE_CARD        10   \n",
       "2    21          WISH_NOT_FOLLOWED       209   \n",
       "3    23         PLAYER_NOT_ON_TURN         2   \n",
       "4    25           HISTORY_TOO_LONG        60   \n",
       "5    31   DRAGON_GIVEN_TO_OWN_TEAM       306   \n",
       "6    50  ANNOUNCEMENT_NOT_POSSIBLE       286   \n",
       "7    60         SCORE_NOT_POSSIBLE     17258   \n",
       "8    61             SCORE_MISMATCH      2364   \n",
       "\n",
       "                                        Beschreibung  \n",
       "0                                        Kein Fehler  \n",
       "1                         Karten mehrmals vorhanden.  \n",
       "2                             Wunsch nicht beachtet.  \n",
       "3                      Der Spieler ist nicht am Zug.  \n",
       "4  Karten ausgespielt, obwohl die Runde vorbei is...  \n",
       "5                 Drache an eigenes Team verschenkt.  \n",
       "6  Tichu-Ansage an der geloggten Position nicht m...  \n",
       "7  Rechenfehler! Geloggtes Rundenergebnis ist nic...  \n",
       "8  Geloggtes Rundenergebnis stimmt nicht mit dem ...  "
      ],
      "text/html": [
       "<div>\n",
       "<style scoped>\n",
       "    .dataframe tbody tr th:only-of-type {\n",
       "        vertical-align: middle;\n",
       "    }\n",
       "\n",
       "    .dataframe tbody tr th {\n",
       "        vertical-align: top;\n",
       "    }\n",
       "\n",
       "    .dataframe thead th {\n",
       "        text-align: right;\n",
       "    }\n",
       "</style>\n",
       "<table border=\"1\" class=\"dataframe\">\n",
       "  <thead>\n",
       "    <tr style=\"text-align: right;\">\n",
       "      <th></th>\n",
       "      <th>Code</th>\n",
       "      <th>Fehler</th>\n",
       "      <th>Anzahl</th>\n",
       "      <th>Beschreibung</th>\n",
       "    </tr>\n",
       "  </thead>\n",
       "  <tbody>\n",
       "    <tr>\n",
       "      <th>0</th>\n",
       "      <td>0</td>\n",
       "      <td>NO_ERROR</td>\n",
       "      <td>22437758</td>\n",
       "      <td>Kein Fehler</td>\n",
       "    </tr>\n",
       "    <tr>\n",
       "      <th>1</th>\n",
       "      <td>12</td>\n",
       "      <td>DUPLICATE_CARD</td>\n",
       "      <td>10</td>\n",
       "      <td>Karten mehrmals vorhanden.</td>\n",
       "    </tr>\n",
       "    <tr>\n",
       "      <th>2</th>\n",
       "      <td>21</td>\n",
       "      <td>WISH_NOT_FOLLOWED</td>\n",
       "      <td>209</td>\n",
       "      <td>Wunsch nicht beachtet.</td>\n",
       "    </tr>\n",
       "    <tr>\n",
       "      <th>3</th>\n",
       "      <td>23</td>\n",
       "      <td>PLAYER_NOT_ON_TURN</td>\n",
       "      <td>2</td>\n",
       "      <td>Der Spieler ist nicht am Zug.</td>\n",
       "    </tr>\n",
       "    <tr>\n",
       "      <th>4</th>\n",
       "      <td>25</td>\n",
       "      <td>HISTORY_TOO_LONG</td>\n",
       "      <td>60</td>\n",
       "      <td>Karten ausgespielt, obwohl die Runde vorbei is...</td>\n",
       "    </tr>\n",
       "    <tr>\n",
       "      <th>5</th>\n",
       "      <td>31</td>\n",
       "      <td>DRAGON_GIVEN_TO_OWN_TEAM</td>\n",
       "      <td>306</td>\n",
       "      <td>Drache an eigenes Team verschenkt.</td>\n",
       "    </tr>\n",
       "    <tr>\n",
       "      <th>6</th>\n",
       "      <td>50</td>\n",
       "      <td>ANNOUNCEMENT_NOT_POSSIBLE</td>\n",
       "      <td>286</td>\n",
       "      <td>Tichu-Ansage an der geloggten Position nicht m...</td>\n",
       "    </tr>\n",
       "    <tr>\n",
       "      <th>7</th>\n",
       "      <td>60</td>\n",
       "      <td>SCORE_NOT_POSSIBLE</td>\n",
       "      <td>17258</td>\n",
       "      <td>Rechenfehler! Geloggtes Rundenergebnis ist nic...</td>\n",
       "    </tr>\n",
       "    <tr>\n",
       "      <th>8</th>\n",
       "      <td>61</td>\n",
       "      <td>SCORE_MISMATCH</td>\n",
       "      <td>2364</td>\n",
       "      <td>Geloggtes Rundenergebnis stimmt nicht mit dem ...</td>\n",
       "    </tr>\n",
       "  </tbody>\n",
       "</table>\n",
       "</div>"
      ]
     },
     "execution_count": 4,
     "metadata": {},
     "output_type": "execute_result"
    }
   ],
   "execution_count": 4
  },
  {
   "metadata": {
    "SqlCellData": {
     "data_source_name": "bsw.sqlite",
     "variableName$1": "df_sql6"
    },
    "ExecuteTime": {
     "end_time": "2025-08-20T01:51:26.444001Z",
     "start_time": "2025-08-20T01:51:26.350207300Z"
    }
   },
   "cell_type": "code",
   "source": [
    "%%sql\n",
    "-- Anzahl Fälle, wo der Phönix den niedrigeren Rang mimt\n",
    "select count(*) from rounds where is_phoenix_low = 1"
   ],
   "id": "7a3a4668237f3410",
   "outputs": [
    {
     "data": {
      "text/plain": [
       "   count(*)\n",
       "0     21267"
      ],
      "text/html": [
       "<div>\n",
       "<style scoped>\n",
       "    .dataframe tbody tr th:only-of-type {\n",
       "        vertical-align: middle;\n",
       "    }\n",
       "\n",
       "    .dataframe tbody tr th {\n",
       "        vertical-align: top;\n",
       "    }\n",
       "\n",
       "    .dataframe thead th {\n",
       "        text-align: right;\n",
       "    }\n",
       "</style>\n",
       "<table border=\"1\" class=\"dataframe\">\n",
       "  <thead>\n",
       "    <tr style=\"text-align: right;\">\n",
       "      <th></th>\n",
       "      <th>count(*)</th>\n",
       "    </tr>\n",
       "  </thead>\n",
       "  <tbody>\n",
       "    <tr>\n",
       "      <th>0</th>\n",
       "      <td>21267</td>\n",
       "    </tr>\n",
       "  </tbody>\n",
       "</table>\n",
       "</div>"
      ]
     },
     "execution_count": 5,
     "metadata": {},
     "output_type": "execute_result"
    }
   ],
   "execution_count": 5
  },
  {
   "metadata": {
    "SqlCellData": {
     "data_source_name": "bsw.sqlite",
     "variableName$1": "df_sql7"
    },
    "ExecuteTime": {
     "end_time": "2025-08-20T02:11:39.438503Z",
     "start_time": "2025-08-20T02:09:51.429967300Z"
    }
   },
   "cell_type": "code",
   "source": [
    "%%sql\n",
    "-- Tichu-Ansage, obwohl ein Mitspieler bereits fertig ist\n",
    "select count(*) from players_rounds where is_tichu_suicidal = 1"
   ],
   "id": "56819b6a78e2c90",
   "outputs": [
    {
     "data": {
      "text/plain": [
       "   count(*)\n",
       "0      2034"
      ],
      "text/html": [
       "<div>\n",
       "<style scoped>\n",
       "    .dataframe tbody tr th:only-of-type {\n",
       "        vertical-align: middle;\n",
       "    }\n",
       "\n",
       "    .dataframe tbody tr th {\n",
       "        vertical-align: top;\n",
       "    }\n",
       "\n",
       "    .dataframe thead th {\n",
       "        text-align: right;\n",
       "    }\n",
       "</style>\n",
       "<table border=\"1\" class=\"dataframe\">\n",
       "  <thead>\n",
       "    <tr style=\"text-align: right;\">\n",
       "      <th></th>\n",
       "      <th>count(*)</th>\n",
       "    </tr>\n",
       "  </thead>\n",
       "  <tbody>\n",
       "    <tr>\n",
       "      <th>0</th>\n",
       "      <td>2034</td>\n",
       "    </tr>\n",
       "  </tbody>\n",
       "</table>\n",
       "</div>"
      ]
     },
     "execution_count": 6,
     "metadata": {},
     "output_type": "execute_result"
    }
   ],
   "execution_count": 6
  },
  {
   "metadata": {
    "SqlCellData": {
     "data_source_name": "bsw.sqlite",
     "variableName$1": "df_sql9"
    },
    "ExecuteTime": {
     "end_time": "2025-08-20T02:23:53.282040Z",
     "start_time": "2025-08-20T02:23:38.582206800Z"
    }
   },
   "cell_type": "code",
   "source": [
    "%%sql\n",
    "-- Anzahl Runden unter den fehlerfreien Partien\n",
    "select count(*) as Runden\n",
    "from rounds as r\n",
    "inner join games as g on g.id = r.game_id\n",
    "where g.error_code = 0;"
   ],
   "id": "178dead0b384d0c4",
   "outputs": [
    {
     "data": {
      "text/plain": [
       "     Runden\n",
       "0  22000517"
      ],
      "text/html": [
       "<div>\n",
       "<style scoped>\n",
       "    .dataframe tbody tr th:only-of-type {\n",
       "        vertical-align: middle;\n",
       "    }\n",
       "\n",
       "    .dataframe tbody tr th {\n",
       "        vertical-align: top;\n",
       "    }\n",
       "\n",
       "    .dataframe thead th {\n",
       "        text-align: right;\n",
       "    }\n",
       "</style>\n",
       "<table border=\"1\" class=\"dataframe\">\n",
       "  <thead>\n",
       "    <tr style=\"text-align: right;\">\n",
       "      <th></th>\n",
       "      <th>Runden</th>\n",
       "    </tr>\n",
       "  </thead>\n",
       "  <tbody>\n",
       "    <tr>\n",
       "      <th>0</th>\n",
       "      <td>22000517</td>\n",
       "    </tr>\n",
       "  </tbody>\n",
       "</table>\n",
       "</div>"
      ]
     },
     "execution_count": 7,
     "metadata": {},
     "output_type": "execute_result"
    }
   ],
   "execution_count": 7
  },
  {
   "metadata": {
    "ExecuteTime": {
     "end_time": "2025-08-20T02:26:19.929194Z",
     "start_time": "2025-08-20T02:26:19.924108Z"
    }
   },
   "cell_type": "code",
   "source": [
    "# Runden unter fehlerfreien Partien / fehlerfreie Partien\n",
    "22000517 / 2317887"
   ],
   "id": "a9b9be4583d8925e",
   "outputs": [
    {
     "data": {
      "text/plain": [
       "9.49162620956069"
      ]
     },
     "execution_count": 8,
     "metadata": {},
     "output_type": "execute_result"
    }
   ],
   "execution_count": 8
  },
  {
   "metadata": {
    "ExecuteTime": {
     "end_time": "2025-08-20T02:27:27.263629Z",
     "start_time": "2025-08-20T02:27:27.257029Z"
    }
   },
   "cell_type": "code",
   "source": [
    "# \"Perspektiv-Runden\" = Runden unter fehlerfreien Partien * 4\n",
    "22000517 * 4"
   ],
   "id": "963060b37433f045",
   "outputs": [
    {
     "data": {
      "text/plain": [
       "88002068"
      ]
     },
     "execution_count": 9,
     "metadata": {},
     "output_type": "execute_result"
    }
   ],
   "execution_count": 9
  },
  {
   "metadata": {},
   "cell_type": "markdown",
   "source": [
    "### 1.3 Anzahl Spieler\n",
    "\n",
    "*   128.462 Spieler insgesamt\n",
    "*   110.869 Spieler, die eine fehlerfreie Partie durchgespielt haben"
   ],
   "id": "4c2d4b3779209e19"
  },
  {
   "metadata": {
    "SqlCellData": {
     "data_source_name": "bsw.sqlite",
     "variableName$1": "df_sql2"
    },
    "ExecuteTime": {
     "end_time": "2025-08-20T02:28:33.124166Z",
     "start_time": "2025-08-20T02:28:32.997966900Z"
    }
   },
   "cell_type": "code",
   "source": [
    "%%sql\n",
    "-- Anzahl Spieler gesamt\n",
    "select count(*) as Spieler from players;"
   ],
   "id": "dd71f0daeacaae3",
   "outputs": [
    {
     "data": {
      "text/plain": [
       "   Spieler\n",
       "0   128462"
      ],
      "text/html": [
       "<div>\n",
       "<style scoped>\n",
       "    .dataframe tbody tr th:only-of-type {\n",
       "        vertical-align: middle;\n",
       "    }\n",
       "\n",
       "    .dataframe tbody tr th {\n",
       "        vertical-align: top;\n",
       "    }\n",
       "\n",
       "    .dataframe thead th {\n",
       "        text-align: right;\n",
       "    }\n",
       "</style>\n",
       "<table border=\"1\" class=\"dataframe\">\n",
       "  <thead>\n",
       "    <tr style=\"text-align: right;\">\n",
       "      <th></th>\n",
       "      <th>Spieler</th>\n",
       "    </tr>\n",
       "  </thead>\n",
       "  <tbody>\n",
       "    <tr>\n",
       "      <th>0</th>\n",
       "      <td>128462</td>\n",
       "    </tr>\n",
       "  </tbody>\n",
       "</table>\n",
       "</div>"
      ]
     },
     "execution_count": 10,
     "metadata": {},
     "output_type": "execute_result"
    }
   ],
   "execution_count": 10
  },
  {
   "metadata": {
    "SqlCellData": {
     "data_source_name": "bsw.sqlite",
     "variableName$1": "df_sql3"
    },
    "ExecuteTime": {
     "end_time": "2025-08-20T02:34:12.553615Z",
     "start_time": "2025-08-20T02:31:18.824722100Z"
    }
   },
   "cell_type": "code",
   "source": [
    "%%sql\n",
    "-- Anzahl Spieler, die eine fehlerfreie Partie durchgespielt haben\n",
    "select count(distinct pr.player_id)\n",
    "from games as g\n",
    "inner join rounds as r on g.id = r.game_id\n",
    "inner join main.players_rounds as pr on r.id = pr.round_id\n",
    "where g.error_code = 0\n"
   ],
   "id": "a10e6a3595752bd8",
   "outputs": [
    {
     "data": {
      "text/plain": [
       "   count(distinct pr.player_id)\n",
       "0                        125648"
      ],
      "text/html": [
       "<div>\n",
       "<style scoped>\n",
       "    .dataframe tbody tr th:only-of-type {\n",
       "        vertical-align: middle;\n",
       "    }\n",
       "\n",
       "    .dataframe tbody tr th {\n",
       "        vertical-align: top;\n",
       "    }\n",
       "\n",
       "    .dataframe thead th {\n",
       "        text-align: right;\n",
       "    }\n",
       "</style>\n",
       "<table border=\"1\" class=\"dataframe\">\n",
       "  <thead>\n",
       "    <tr style=\"text-align: right;\">\n",
       "      <th></th>\n",
       "      <th>count(distinct pr.player_id)</th>\n",
       "    </tr>\n",
       "  </thead>\n",
       "  <tbody>\n",
       "    <tr>\n",
       "      <th>0</th>\n",
       "      <td>125648</td>\n",
       "    </tr>\n",
       "  </tbody>\n",
       "</table>\n",
       "</div>"
      ]
     },
     "execution_count": 11,
     "metadata": {},
     "output_type": "execute_result"
    }
   ],
   "execution_count": 11
  },
  {
   "metadata": {},
   "cell_type": "markdown",
   "source": [
    "### 1.4 Anzahl Spielzüge und Stiche\n",
    "\n",
    "Erste Auszählung mittel replay():\n",
    "*   1.139.465.380 Spielzüge (über alle fehlerfreien Partien)\n",
    "*   1.139.465.380 / 20.186.515 = 56,447 Spielzüge pro Runde\n",
    "\n",
    "\n",
    "Im Spiel mit 4 HeuristicAgents fallen ca. 10.8 Stiche/Runde (so häufig wurden Karten kassiert).\n",
    "\n",
    "Ich schätze 6 Spielzüge (Kartenlegen oder Passen) pro Stich. Das ergibt 64.8 Spielzüge pro Runde.\n",
    "\n",
    "Bezogen auf die Perspektiv-Runden habe ich geschätzt **970.000.000 Stiche** bzw. **5.821.000.000 Spielzüge**.\n"
   ],
   "id": "29ebdfcc14265982"
  },
  {
   "metadata": {},
   "cell_type": "code",
   "outputs": [],
   "execution_count": null,
   "source": "",
   "id": "67af1f1777b00d61"
  },
  {
   "metadata": {},
   "cell_type": "markdown",
   "source": "## 2. Rundenergebnis skalieren\n",
   "id": "adb006aed8b744c"
  }
 ],
 "metadata": {
  "kernelspec": {
   "display_name": "Python 3",
   "language": "python",
   "name": "python3"
  },
  "language_info": {
   "codemirror_mode": {
    "name": "ipython",
    "version": 2
   },
   "file_extension": ".py",
   "mimetype": "text/x-python",
   "name": "python",
   "nbconvert_exporter": "python",
   "pygments_lexer": "ipython2",
   "version": "2.7.6"
  }
 },
 "nbformat": 4,
 "nbformat_minor": 5
}
