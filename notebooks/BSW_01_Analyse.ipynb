{
 "cells": [
  {
   "metadata": {},
   "cell_type": "markdown",
   "source": "# Datenanalyse der Brettspielwelt-DB",
   "id": "42dff068a562fd05"
  },
  {
   "metadata": {},
   "cell_type": "markdown",
   "source": [
    "## Datenbestand\n",
    "\n",
    "### Datenbeschaffung\n",
    "\n",
    "Es stehen ca. 7 GB Logdateien vom Spiele-Portal \"Brettspielwelt\" zur Verfügung (seit 2007-01, alle Logdateien bis einschließlich 2025-07).\n",
    "Jede Logdatei hat die Daten einer Partie.\n",
    "\n",
    "Nach dem Download wurde jede Logdatei geparst (in ein Objekt eingelesen), validiert und in eine SQLite-DB gepumpt.\n",
    "Dieser Vorgang dauerte 16 Stunden und 37 Minuten (ca. 25ms / Partie).\n",
    "\n",
    "Dabei wurde gezählt:\n",
    "*   2.411.514 Logdateien insgesamt\n",
    "*   13.964 leere Logdateien (ohne verwertbare Daten)\n",
    "\n",
    "Die SQLite-Datenbankdatei ist 14.842.700 KB = 14,155 GB groß.\n",
    "\n",
    "### Anzahl Partien\n",
    "\n",
    "*   2.397.550 Partien insgesamt\n",
    "*   2.141.248 fehlerfreie Partien\n",
    "\n"
   ],
   "id": "cf2186a60e191e48"
  },
  {
   "metadata": {
    "SqlCellData": {
     "data_source_name": "bsw.sqlite",
     "variableName$1": "df_sql1"
    },
    "ExecuteTime": {
     "end_time": "2025-08-07T21:34:21.800386Z",
     "start_time": "2025-08-07T21:34:21.636102800Z"
    }
   },
   "cell_type": "code",
   "source": [
    "%%sql\n",
    "select count(*) as Partien from games"
   ],
   "id": "23bf270c28965359",
   "outputs": [
    {
     "data": {
      "text/plain": [
       "   Partien\n",
       "0  2397550"
      ],
      "text/html": [
       "<div>\n",
       "<style scoped>\n",
       "    .dataframe tbody tr th:only-of-type {\n",
       "        vertical-align: middle;\n",
       "    }\n",
       "\n",
       "    .dataframe tbody tr th {\n",
       "        vertical-align: top;\n",
       "    }\n",
       "\n",
       "    .dataframe thead th {\n",
       "        text-align: right;\n",
       "    }\n",
       "</style>\n",
       "<table border=\"1\" class=\"dataframe\">\n",
       "  <thead>\n",
       "    <tr style=\"text-align: right;\">\n",
       "      <th></th>\n",
       "      <th>Partien</th>\n",
       "    </tr>\n",
       "  </thead>\n",
       "  <tbody>\n",
       "    <tr>\n",
       "      <th>0</th>\n",
       "      <td>2397550</td>\n",
       "    </tr>\n",
       "  </tbody>\n",
       "</table>\n",
       "</div>"
      ]
     },
     "execution_count": 21,
     "metadata": {},
     "output_type": "execute_result"
    }
   ],
   "execution_count": 21
  },
  {
   "metadata": {
    "SqlCellData": {
     "data_source_name": "bsw.sqlite",
     "variableName$1": "df_sql5"
    },
    "ExecuteTime": {
     "end_time": "2025-08-07T23:09:23.876014Z",
     "start_time": "2025-08-07T23:09:23.568439300Z"
    }
   },
   "cell_type": "code",
   "source": [
    "%%sql\n",
    "select g.error_code as Code, e.name as Fehler, count(*) as Anzahl, e.description as Beschreibung\n",
    "from games as g\n",
    "left join errors as e on g.error_code = e.code\n",
    "group by g.error_code\n",
    "order by g.error_code"
   ],
   "id": "2b2690d0681fed66",
   "outputs": [
    {
     "data": {
      "text/plain": [
       "    Code                     Fehler   Anzahl  \\\n",
       "0      0                   NO_ERROR  2297206   \n",
       "1     12             DUPLICATE_CARD        6   \n",
       "2     21          WISH_NOT_FOLLOWED       79   \n",
       "3     23  SMALLER_OF_AMBIGUOUS_RANK    10807   \n",
       "4     24         PLAYER_NOT_ON_TURN        2   \n",
       "5     26           HISTORY_TOO_LONG       55   \n",
       "6     31   DRAGON_GIVEN_TO_OWN_TEAM      276   \n",
       "7     50  ANNOUNCEMENT_NOT_POSSIBLE      272   \n",
       "8     60             SCORE_MISMATCH     1401   \n",
       "9     61         SCORE_NOT_POSSIBLE     8862   \n",
       "10    70            GAME_OVERPLAYED     1926   \n",
       "11    71          GAME_NOT_FINISHED    76658   \n",
       "\n",
       "                                         Beschreibung  \n",
       "0                                         Kein Fehler  \n",
       "1                           Karten mehrmals vorhanden  \n",
       "2                               Wunsch nicht beachtet  \n",
       "3   Es wurde der kleinere Rang bei einem mehrdeuti...  \n",
       "4                        Der Spieler ist nicht am Zug  \n",
       "5   Karten ausgespielt, obwohl die Runde vorbei is...  \n",
       "6                   Drache an eigenes Team verschenkt  \n",
       "7   Tichu-Ansage an der geloggten Position nicht m...  \n",
       "8   Geloggtes Rundenergebnis stimmt nicht mit dem ...  \n",
       "9   Rechenfehler! Geloggtes Rundenergebnis ist nic...  \n",
       "10  Ein oder mehrere Runden gespielt, obwohl die P...  \n",
       "11                      Partie nicht zu Ende gespielt  "
      ],
      "text/html": [
       "<div>\n",
       "<style scoped>\n",
       "    .dataframe tbody tr th:only-of-type {\n",
       "        vertical-align: middle;\n",
       "    }\n",
       "\n",
       "    .dataframe tbody tr th {\n",
       "        vertical-align: top;\n",
       "    }\n",
       "\n",
       "    .dataframe thead th {\n",
       "        text-align: right;\n",
       "    }\n",
       "</style>\n",
       "<table border=\"1\" class=\"dataframe\">\n",
       "  <thead>\n",
       "    <tr style=\"text-align: right;\">\n",
       "      <th></th>\n",
       "      <th>Code</th>\n",
       "      <th>Fehler</th>\n",
       "      <th>Anzahl</th>\n",
       "      <th>Beschreibung</th>\n",
       "    </tr>\n",
       "  </thead>\n",
       "  <tbody>\n",
       "    <tr>\n",
       "      <th>0</th>\n",
       "      <td>0</td>\n",
       "      <td>NO_ERROR</td>\n",
       "      <td>2297206</td>\n",
       "      <td>Kein Fehler</td>\n",
       "    </tr>\n",
       "    <tr>\n",
       "      <th>1</th>\n",
       "      <td>12</td>\n",
       "      <td>DUPLICATE_CARD</td>\n",
       "      <td>6</td>\n",
       "      <td>Karten mehrmals vorhanden</td>\n",
       "    </tr>\n",
       "    <tr>\n",
       "      <th>2</th>\n",
       "      <td>21</td>\n",
       "      <td>WISH_NOT_FOLLOWED</td>\n",
       "      <td>79</td>\n",
       "      <td>Wunsch nicht beachtet</td>\n",
       "    </tr>\n",
       "    <tr>\n",
       "      <th>3</th>\n",
       "      <td>23</td>\n",
       "      <td>SMALLER_OF_AMBIGUOUS_RANK</td>\n",
       "      <td>10807</td>\n",
       "      <td>Es wurde der kleinere Rang bei einem mehrdeuti...</td>\n",
       "    </tr>\n",
       "    <tr>\n",
       "      <th>4</th>\n",
       "      <td>24</td>\n",
       "      <td>PLAYER_NOT_ON_TURN</td>\n",
       "      <td>2</td>\n",
       "      <td>Der Spieler ist nicht am Zug</td>\n",
       "    </tr>\n",
       "    <tr>\n",
       "      <th>5</th>\n",
       "      <td>26</td>\n",
       "      <td>HISTORY_TOO_LONG</td>\n",
       "      <td>55</td>\n",
       "      <td>Karten ausgespielt, obwohl die Runde vorbei is...</td>\n",
       "    </tr>\n",
       "    <tr>\n",
       "      <th>6</th>\n",
       "      <td>31</td>\n",
       "      <td>DRAGON_GIVEN_TO_OWN_TEAM</td>\n",
       "      <td>276</td>\n",
       "      <td>Drache an eigenes Team verschenkt</td>\n",
       "    </tr>\n",
       "    <tr>\n",
       "      <th>7</th>\n",
       "      <td>50</td>\n",
       "      <td>ANNOUNCEMENT_NOT_POSSIBLE</td>\n",
       "      <td>272</td>\n",
       "      <td>Tichu-Ansage an der geloggten Position nicht m...</td>\n",
       "    </tr>\n",
       "    <tr>\n",
       "      <th>8</th>\n",
       "      <td>60</td>\n",
       "      <td>SCORE_MISMATCH</td>\n",
       "      <td>1401</td>\n",
       "      <td>Geloggtes Rundenergebnis stimmt nicht mit dem ...</td>\n",
       "    </tr>\n",
       "    <tr>\n",
       "      <th>9</th>\n",
       "      <td>61</td>\n",
       "      <td>SCORE_NOT_POSSIBLE</td>\n",
       "      <td>8862</td>\n",
       "      <td>Rechenfehler! Geloggtes Rundenergebnis ist nic...</td>\n",
       "    </tr>\n",
       "    <tr>\n",
       "      <th>10</th>\n",
       "      <td>70</td>\n",
       "      <td>GAME_OVERPLAYED</td>\n",
       "      <td>1926</td>\n",
       "      <td>Ein oder mehrere Runden gespielt, obwohl die P...</td>\n",
       "    </tr>\n",
       "    <tr>\n",
       "      <th>11</th>\n",
       "      <td>71</td>\n",
       "      <td>GAME_NOT_FINISHED</td>\n",
       "      <td>76658</td>\n",
       "      <td>Partie nicht zu Ende gespielt</td>\n",
       "    </tr>\n",
       "  </tbody>\n",
       "</table>\n",
       "</div>"
      ]
     },
     "execution_count": 35,
     "metadata": {},
     "output_type": "execute_result"
    }
   ],
   "execution_count": 35
  },
  {
   "metadata": {
    "SqlCellData": {
     "data_source_name": "bsw.sqlite",
     "variableName$1": "df_sql10"
    },
    "ExecuteTime": {
     "end_time": "2025-08-08T00:38:00.668417Z",
     "start_time": "2025-08-08T00:37:54.795682400Z"
    }
   },
   "cell_type": "code",
   "source": [
    "%%sql\n",
    "select count(*) from games where error_code = 0 and player_changed = 0"
   ],
   "id": "73c037e6a1ae31c0",
   "outputs": [
    {
     "data": {
      "text/plain": [
       "   count(*)\n",
       "0   2141248"
      ],
      "text/html": [
       "<div>\n",
       "<style scoped>\n",
       "    .dataframe tbody tr th:only-of-type {\n",
       "        vertical-align: middle;\n",
       "    }\n",
       "\n",
       "    .dataframe tbody tr th {\n",
       "        vertical-align: top;\n",
       "    }\n",
       "\n",
       "    .dataframe thead th {\n",
       "        text-align: right;\n",
       "    }\n",
       "</style>\n",
       "<table border=\"1\" class=\"dataframe\">\n",
       "  <thead>\n",
       "    <tr style=\"text-align: right;\">\n",
       "      <th></th>\n",
       "      <th>count(*)</th>\n",
       "    </tr>\n",
       "  </thead>\n",
       "  <tbody>\n",
       "    <tr>\n",
       "      <th>0</th>\n",
       "      <td>2141248</td>\n",
       "    </tr>\n",
       "  </tbody>\n",
       "</table>\n",
       "</div>"
      ]
     },
     "execution_count": 2,
     "metadata": {},
     "output_type": "execute_result"
    }
   ],
   "execution_count": 2
  },
  {
   "metadata": {},
   "cell_type": "markdown",
   "source": "**SCORE_NOT_POSSIBLE:** Der Rechenfehler wurde 2010 größtenteils behoben:",
   "id": "9c7f9f678d17d25e"
  },
  {
   "metadata": {
    "SqlCellData": {
     "data_source_name": "bsw.sqlite",
     "variableName$1": "df_sql7"
    },
    "ExecuteTime": {
     "end_time": "2025-08-07T23:44:15.334208Z",
     "start_time": "2025-08-07T23:43:59.336334300Z"
    }
   },
   "cell_type": "code",
   "source": [
    "%%sql\n",
    "SELECT\n",
    "    g.log_year AS Jahr,\n",
    "    COUNT(CASE WHEN error_code = 61 THEN 1 END) AS Rechenfehler,\n",
    "    COUNT(*) AS Total_Games,\n",
    "    ROUND((COUNT(CASE WHEN error_code = 61 THEN 1 END) * 100.0) / COUNT(*), 2) AS [Fehlerrate in %]\n",
    "FROM\n",
    "    games AS g\n",
    "GROUP BY\n",
    "    log_year\n",
    "ORDER BY\n",
    "    log_year;"
   ],
   "id": "35bd107803429325",
   "outputs": [
    {
     "data": {
      "text/plain": [
       "    Jahr  Rechenfehler  Total_Games  Fehlerrate in %\n",
       "0   2007           927        94969             0.98\n",
       "1   2008          1944       147438             1.32\n",
       "2   2009          3111       180640             1.72\n",
       "3   2010          2794       219729             1.27\n",
       "4   2011            27       329552             0.01\n",
       "5   2012            23       397078             0.01\n",
       "6   2013             8       288380             0.00\n",
       "7   2014             5       195838             0.00\n",
       "8   2015             7       136494             0.01\n",
       "9   2016             5       100815             0.00\n",
       "10  2017             7        76311             0.01\n",
       "11  2018             1        51824             0.00\n",
       "12  2019             0        37031             0.00\n",
       "13  2020             0        55597             0.00\n",
       "14  2021             1        33790             0.00\n",
       "15  2022             1        16927             0.01\n",
       "16  2023             1        15624             0.01\n",
       "17  2024             0        13821             0.00\n",
       "18  2025             0         5692             0.00"
      ],
      "text/html": [
       "<div>\n",
       "<style scoped>\n",
       "    .dataframe tbody tr th:only-of-type {\n",
       "        vertical-align: middle;\n",
       "    }\n",
       "\n",
       "    .dataframe tbody tr th {\n",
       "        vertical-align: top;\n",
       "    }\n",
       "\n",
       "    .dataframe thead th {\n",
       "        text-align: right;\n",
       "    }\n",
       "</style>\n",
       "<table border=\"1\" class=\"dataframe\">\n",
       "  <thead>\n",
       "    <tr style=\"text-align: right;\">\n",
       "      <th></th>\n",
       "      <th>Jahr</th>\n",
       "      <th>Rechenfehler</th>\n",
       "      <th>Total_Games</th>\n",
       "      <th>Fehlerrate in %</th>\n",
       "    </tr>\n",
       "  </thead>\n",
       "  <tbody>\n",
       "    <tr>\n",
       "      <th>0</th>\n",
       "      <td>2007</td>\n",
       "      <td>927</td>\n",
       "      <td>94969</td>\n",
       "      <td>0.98</td>\n",
       "    </tr>\n",
       "    <tr>\n",
       "      <th>1</th>\n",
       "      <td>2008</td>\n",
       "      <td>1944</td>\n",
       "      <td>147438</td>\n",
       "      <td>1.32</td>\n",
       "    </tr>\n",
       "    <tr>\n",
       "      <th>2</th>\n",
       "      <td>2009</td>\n",
       "      <td>3111</td>\n",
       "      <td>180640</td>\n",
       "      <td>1.72</td>\n",
       "    </tr>\n",
       "    <tr>\n",
       "      <th>3</th>\n",
       "      <td>2010</td>\n",
       "      <td>2794</td>\n",
       "      <td>219729</td>\n",
       "      <td>1.27</td>\n",
       "    </tr>\n",
       "    <tr>\n",
       "      <th>4</th>\n",
       "      <td>2011</td>\n",
       "      <td>27</td>\n",
       "      <td>329552</td>\n",
       "      <td>0.01</td>\n",
       "    </tr>\n",
       "    <tr>\n",
       "      <th>5</th>\n",
       "      <td>2012</td>\n",
       "      <td>23</td>\n",
       "      <td>397078</td>\n",
       "      <td>0.01</td>\n",
       "    </tr>\n",
       "    <tr>\n",
       "      <th>6</th>\n",
       "      <td>2013</td>\n",
       "      <td>8</td>\n",
       "      <td>288380</td>\n",
       "      <td>0.00</td>\n",
       "    </tr>\n",
       "    <tr>\n",
       "      <th>7</th>\n",
       "      <td>2014</td>\n",
       "      <td>5</td>\n",
       "      <td>195838</td>\n",
       "      <td>0.00</td>\n",
       "    </tr>\n",
       "    <tr>\n",
       "      <th>8</th>\n",
       "      <td>2015</td>\n",
       "      <td>7</td>\n",
       "      <td>136494</td>\n",
       "      <td>0.01</td>\n",
       "    </tr>\n",
       "    <tr>\n",
       "      <th>9</th>\n",
       "      <td>2016</td>\n",
       "      <td>5</td>\n",
       "      <td>100815</td>\n",
       "      <td>0.00</td>\n",
       "    </tr>\n",
       "    <tr>\n",
       "      <th>10</th>\n",
       "      <td>2017</td>\n",
       "      <td>7</td>\n",
       "      <td>76311</td>\n",
       "      <td>0.01</td>\n",
       "    </tr>\n",
       "    <tr>\n",
       "      <th>11</th>\n",
       "      <td>2018</td>\n",
       "      <td>1</td>\n",
       "      <td>51824</td>\n",
       "      <td>0.00</td>\n",
       "    </tr>\n",
       "    <tr>\n",
       "      <th>12</th>\n",
       "      <td>2019</td>\n",
       "      <td>0</td>\n",
       "      <td>37031</td>\n",
       "      <td>0.00</td>\n",
       "    </tr>\n",
       "    <tr>\n",
       "      <th>13</th>\n",
       "      <td>2020</td>\n",
       "      <td>0</td>\n",
       "      <td>55597</td>\n",
       "      <td>0.00</td>\n",
       "    </tr>\n",
       "    <tr>\n",
       "      <th>14</th>\n",
       "      <td>2021</td>\n",
       "      <td>1</td>\n",
       "      <td>33790</td>\n",
       "      <td>0.00</td>\n",
       "    </tr>\n",
       "    <tr>\n",
       "      <th>15</th>\n",
       "      <td>2022</td>\n",
       "      <td>1</td>\n",
       "      <td>16927</td>\n",
       "      <td>0.01</td>\n",
       "    </tr>\n",
       "    <tr>\n",
       "      <th>16</th>\n",
       "      <td>2023</td>\n",
       "      <td>1</td>\n",
       "      <td>15624</td>\n",
       "      <td>0.01</td>\n",
       "    </tr>\n",
       "    <tr>\n",
       "      <th>17</th>\n",
       "      <td>2024</td>\n",
       "      <td>0</td>\n",
       "      <td>13821</td>\n",
       "      <td>0.00</td>\n",
       "    </tr>\n",
       "    <tr>\n",
       "      <th>18</th>\n",
       "      <td>2025</td>\n",
       "      <td>0</td>\n",
       "      <td>5692</td>\n",
       "      <td>0.00</td>\n",
       "    </tr>\n",
       "  </tbody>\n",
       "</table>\n",
       "</div>"
      ]
     },
     "execution_count": 45,
     "metadata": {},
     "output_type": "execute_result"
    }
   ],
   "execution_count": 45
  },
  {
   "metadata": {},
   "cell_type": "markdown",
   "source": [
    "## Runden\n",
    "\n",
    "*   22.458.253 Runden insgesamt.\n",
    "*   20.186.515 Runden unter den fehlerfreien Partien (durchschnittlich 9,4 Runden / Partie)."
   ],
   "id": "75829482eac5408f"
  },
  {
   "metadata": {
    "SqlCellData": {
     "variableName$1": "df_sql8"
    }
   },
   "cell_type": "code",
   "outputs": [
    {
     "data": {
      "text/plain": [
       "     Runden\n",
       "0  22458253"
      ],
      "text/html": [
       "<div>\n",
       "<style scoped>\n",
       "    .dataframe tbody tr th:only-of-type {\n",
       "        vertical-align: middle;\n",
       "    }\n",
       "\n",
       "    .dataframe tbody tr th {\n",
       "        vertical-align: top;\n",
       "    }\n",
       "\n",
       "    .dataframe thead th {\n",
       "        text-align: right;\n",
       "    }\n",
       "</style>\n",
       "<table border=\"1\" class=\"dataframe\">\n",
       "  <thead>\n",
       "    <tr style=\"text-align: right;\">\n",
       "      <th></th>\n",
       "      <th>Runden</th>\n",
       "    </tr>\n",
       "  </thead>\n",
       "  <tbody>\n",
       "    <tr>\n",
       "      <th>0</th>\n",
       "      <td>22458253</td>\n",
       "    </tr>\n",
       "  </tbody>\n",
       "</table>\n",
       "</div>"
      ]
     },
     "execution_count": 48,
     "metadata": {},
     "output_type": "execute_result"
    }
   ],
   "execution_count": 48,
   "source": [
    "%%sql\n",
    "select count(*) as Runden from rounds"
   ],
   "id": "1c4ec7663793636c"
  },
  {
   "metadata": {
    "SqlCellData": {
     "data_source_name": "bsw.sqlite",
     "variableName$1": "df_sql9"
    },
    "ExecuteTime": {
     "end_time": "2025-08-08T00:46:33.301824Z",
     "start_time": "2025-08-08T00:46:25.116279Z"
    }
   },
   "cell_type": "code",
   "source": [
    "%%sql\n",
    "select count(*) as Runden\n",
    "from rounds as r\n",
    "inner join games as g on g.id = r.game_id\n",
    "where g.error_code = 0 and g.player_changed = 0"
   ],
   "id": "178dead0b384d0c4",
   "outputs": [
    {
     "data": {
      "text/plain": [
       "     Runden\n",
       "0  20186515"
      ],
      "text/html": [
       "<div>\n",
       "<style scoped>\n",
       "    .dataframe tbody tr th:only-of-type {\n",
       "        vertical-align: middle;\n",
       "    }\n",
       "\n",
       "    .dataframe tbody tr th {\n",
       "        vertical-align: top;\n",
       "    }\n",
       "\n",
       "    .dataframe thead th {\n",
       "        text-align: right;\n",
       "    }\n",
       "</style>\n",
       "<table border=\"1\" class=\"dataframe\">\n",
       "  <thead>\n",
       "    <tr style=\"text-align: right;\">\n",
       "      <th></th>\n",
       "      <th>Runden</th>\n",
       "    </tr>\n",
       "  </thead>\n",
       "  <tbody>\n",
       "    <tr>\n",
       "      <th>0</th>\n",
       "      <td>20186515</td>\n",
       "    </tr>\n",
       "  </tbody>\n",
       "</table>\n",
       "</div>"
      ]
     },
     "execution_count": 6,
     "metadata": {},
     "output_type": "execute_result"
    }
   ],
   "execution_count": 6
  },
  {
   "metadata": {
    "ExecuteTime": {
     "end_time": "2025-08-08T00:43:42.725030Z",
     "start_time": "2025-08-08T00:43:42.719194Z"
    }
   },
   "cell_type": "code",
   "source": "20186515 / 2141248",
   "id": "a9b9be4583d8925e",
   "outputs": [
    {
     "data": {
      "text/plain": [
       "9.427453055414412"
      ]
     },
     "execution_count": 3,
     "metadata": {},
     "output_type": "execute_result"
    }
   ],
   "execution_count": 3
  },
  {
   "metadata": {},
   "cell_type": "markdown",
   "source": [
    "### Spieler\n",
    "\n",
    "*   128.462 Spieler insgesamt\n",
    "*   110.932 Spieler, die eine fehlerfreie Partie durchgespielt haben"
   ],
   "id": "4c2d4b3779209e19"
  },
  {
   "metadata": {
    "SqlCellData": {
     "data_source_name": "bsw.sqlite",
     "variableName$1": "df_sql2"
    },
    "ExecuteTime": {
     "end_time": "2025-08-08T00:53:42.299612Z",
     "start_time": "2025-08-08T00:53:42.125034700Z"
    }
   },
   "cell_type": "code",
   "source": [
    "%%sql\n",
    "select count(*) as Spieler from players"
   ],
   "id": "dd71f0daeacaae3",
   "outputs": [
    {
     "data": {
      "text/plain": [
       "   Spieler\n",
       "0   128462"
      ],
      "text/html": [
       "<div>\n",
       "<style scoped>\n",
       "    .dataframe tbody tr th:only-of-type {\n",
       "        vertical-align: middle;\n",
       "    }\n",
       "\n",
       "    .dataframe tbody tr th {\n",
       "        vertical-align: top;\n",
       "    }\n",
       "\n",
       "    .dataframe thead th {\n",
       "        text-align: right;\n",
       "    }\n",
       "</style>\n",
       "<table border=\"1\" class=\"dataframe\">\n",
       "  <thead>\n",
       "    <tr style=\"text-align: right;\">\n",
       "      <th></th>\n",
       "      <th>Spieler</th>\n",
       "    </tr>\n",
       "  </thead>\n",
       "  <tbody>\n",
       "    <tr>\n",
       "      <th>0</th>\n",
       "      <td>128462</td>\n",
       "    </tr>\n",
       "  </tbody>\n",
       "</table>\n",
       "</div>"
      ]
     },
     "execution_count": 9,
     "metadata": {},
     "output_type": "execute_result"
    }
   ],
   "execution_count": 9
  },
  {
   "metadata": {
    "SqlCellData": {
     "data_source_name": "bsw.sqlite",
     "variableName$1": "df_sql3"
    },
    "ExecuteTime": {
     "end_time": "2025-08-08T01:04:14.040401Z",
     "start_time": "2025-08-08T01:04:10.213265200Z"
    }
   },
   "cell_type": "code",
   "source": [
    "%%sql\n",
    "select count(*)\n",
    "from (\n",
    "select player_id_0 from games where error_code = 0 and player_changed = 0\n",
    "union\n",
    "select player_id_1 from games where error_code = 0 and player_changed = 0\n",
    "union\n",
    "select player_id_2 from games where error_code = 0 and player_changed = 0\n",
    "union\n",
    "select player_id_3 from games where error_code = 0 and player_changed = 0\n",
    ") as sub\n"
   ],
   "id": "a10e6a3595752bd8",
   "outputs": [
    {
     "data": {
      "text/plain": [
       "   count(*)\n",
       "0    110932"
      ],
      "text/html": [
       "<div>\n",
       "<style scoped>\n",
       "    .dataframe tbody tr th:only-of-type {\n",
       "        vertical-align: middle;\n",
       "    }\n",
       "\n",
       "    .dataframe tbody tr th {\n",
       "        vertical-align: top;\n",
       "    }\n",
       "\n",
       "    .dataframe thead th {\n",
       "        text-align: right;\n",
       "    }\n",
       "</style>\n",
       "<table border=\"1\" class=\"dataframe\">\n",
       "  <thead>\n",
       "    <tr style=\"text-align: right;\">\n",
       "      <th></th>\n",
       "      <th>count(*)</th>\n",
       "    </tr>\n",
       "  </thead>\n",
       "  <tbody>\n",
       "    <tr>\n",
       "      <th>0</th>\n",
       "      <td>110932</td>\n",
       "    </tr>\n",
       "  </tbody>\n",
       "</table>\n",
       "</div>"
      ]
     },
     "execution_count": 24,
     "metadata": {},
     "output_type": "execute_result"
    }
   ],
   "execution_count": 24
  },
  {
   "metadata": {},
   "cell_type": "code",
   "outputs": [],
   "execution_count": null,
   "source": "",
   "id": "706f3189bb27e80"
  }
 ],
 "metadata": {
  "kernelspec": {
   "display_name": "Python 3",
   "language": "python",
   "name": "python3"
  },
  "language_info": {
   "codemirror_mode": {
    "name": "ipython",
    "version": 2
   },
   "file_extension": ".py",
   "mimetype": "text/x-python",
   "name": "python",
   "nbconvert_exporter": "python",
   "pygments_lexer": "ipython2",
   "version": "2.7.6"
  }
 },
 "nbformat": 4,
 "nbformat_minor": 5
}
