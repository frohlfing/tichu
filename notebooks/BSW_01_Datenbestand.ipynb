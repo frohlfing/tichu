{
 "cells": [
  {
   "metadata": {},
   "cell_type": "markdown",
   "source": "# Datenanalyse der Brettspielwelt-DB",
   "id": "42dff068a562fd05"
  },
  {
   "metadata": {},
   "cell_type": "markdown",
   "source": [
    "## 1. Datenbestand\n",
    "\n",
    "Es stehen ca. 7 GB Logdateien vom Spiele-Portal \"Brettspielwelt\" zur Verfügung (seit 2007-01, alle Logdateien bis einschließlich 2025-07).\n",
    "Jede Logdatei hat die Daten einer Partie.\n",
    "\n",
    "Nach dem Download wurde jede Logdatei geparst (in ein Objekt eingelesen), validiert und in eine SQLite-DB gepumpt.\n",
    "Dieser Vorgang dauerte ca. 20 Stunden (wobei die Indezies der DB aus Versehen bereits vor dem Import angelegt wurden - dadurch hat es schätzungsweise 4 Stunden länger gedauert):\n",
    "\n",
    "```\n",
    "C:\\Users\\frank\\Source\\PyCharm\\tichu\\.venv\\Scripts\\python.exe C:\\Users\\frank\\Source\\PyCharm\\tichu\\bin\\bsw_import.py --ym1 2007-01 --ym2 2025-07\n",
    "BSW Importer\n",
    "Ab Datum: 2007-01\n",
    "Bis Datum: 2025-07\n",
    "Zip-Archiven: C:\\Users\\frank\\Source\\PyCharm\\tichu\\data\\bsw\\tichulog\n",
    "SQLite-Datenbank: C:\\Users\\frank\\Source\\PyCharm\\tichu\\data\\bsw\\bsw.sqlite\n",
    "Importiere Log-Dateien: 100%|██████████| 2411514/2411514 [19:47:30<00:00, 33.85 Datei/s, Logdateien=2411514, Leere=13964, Fehler=79663, Datei=202507/2411561.tch]\n",
    "Aggregiere Daten für Spieler: 100%|██████████| 128462/128462 [42:27<00:00, 50.43 Spieler/s]\n",
    "fertig\n",
    "\n",
    "Process finished with exit code 0\n",
    "```\n",
    "\n",
    "Dabei wurde gezählt:\n",
    "*   2.411.514 Logdateien insgesamt\n",
    "*   13.964 leere Logdateien (ohne verwertbare Daten)\n",
    "\n",
    "Die SQLite-Datenbankdatei ist 17.085.088 KB = 16,294 GB groß."
   ],
   "id": "cf2186a60e191e48"
  },
  {
   "metadata": {},
   "cell_type": "markdown",
   "source": [
    "### 1.1 Anzahl Partien\n",
    "\n",
    "*   2.397.550 Partien insgesamt\n",
    "*   2.317.858 Partien fehlerfrei"
   ],
   "id": "38999b63effacfaf"
  },
  {
   "metadata": {
    "SqlCellData": {
     "data_source_name": "bsw.sqlite",
     "variableName$1": "df_sql1"
    },
    "ExecuteTime": {
     "end_time": "2025-08-20T23:44:37.631510Z",
     "start_time": "2025-08-20T23:44:37.509137800Z"
    }
   },
   "cell_type": "code",
   "source": [
    "%%sql\n",
    "-- Anzahl Partien gesamt\n",
    "select count(*) as Partien from games;"
   ],
   "id": "23bf270c28965359",
   "outputs": [
    {
     "data": {
      "text/plain": [
       "   Partien\n",
       "0  2397550"
      ],
      "text/html": [
       "<div>\n",
       "<style scoped>\n",
       "    .dataframe tbody tr th:only-of-type {\n",
       "        vertical-align: middle;\n",
       "    }\n",
       "\n",
       "    .dataframe tbody tr th {\n",
       "        vertical-align: top;\n",
       "    }\n",
       "\n",
       "    .dataframe thead th {\n",
       "        text-align: right;\n",
       "    }\n",
       "</style>\n",
       "<table border=\"1\" class=\"dataframe\">\n",
       "  <thead>\n",
       "    <tr style=\"text-align: right;\">\n",
       "      <th></th>\n",
       "      <th>Partien</th>\n",
       "    </tr>\n",
       "  </thead>\n",
       "  <tbody>\n",
       "    <tr>\n",
       "      <th>0</th>\n",
       "      <td>2397550</td>\n",
       "    </tr>\n",
       "  </tbody>\n",
       "</table>\n",
       "</div>"
      ]
     },
     "execution_count": 1,
     "metadata": {},
     "output_type": "execute_result"
    }
   ],
   "execution_count": 1
  },
  {
   "metadata": {
    "SqlCellData": {
     "data_source_name": "bsw.sqlite",
     "variableName$1": "df_sql4"
    },
    "ExecuteTime": {
     "end_time": "2025-08-21T17:56:48.887589Z",
     "start_time": "2025-08-21T17:56:42.911305600Z"
    }
   },
   "cell_type": "code",
   "source": [
    "%%sql\n",
    "-- Anzahl Partien groupiert nach Fehlern\n",
    "select g.error_code as Code, e.name as Fehler, count(*) as Anzahl, e.description as Beschreibung\n",
    "from games as g\n",
    "left join errors as e on g.error_code = e.code\n",
    "group by g.error_code\n",
    "order by g.error_code;"
   ],
   "id": "7369de4df74fef50",
   "outputs": [
    {
     "data": {
      "text/plain": [
       "   Code             Fehler   Anzahl  \\\n",
       "0     0           NO_ERROR  2317858   \n",
       "1    70  GAME_NOT_FINISHED    66718   \n",
       "2    71    GAME_OVERPLAYED     1959   \n",
       "3    80       ROUND_FAILED    11015   \n",
       "\n",
       "                                        Beschreibung  \n",
       "0                                        Kein Fehler  \n",
       "1                     Partie nicht zu Ende gespielt.  \n",
       "2  Ein oder mehrere Runden gespielt, obwohl die P...  \n",
       "3              Mindestens eine Runde ist fehlerhaft.  "
      ],
      "text/html": [
       "<div>\n",
       "<style scoped>\n",
       "    .dataframe tbody tr th:only-of-type {\n",
       "        vertical-align: middle;\n",
       "    }\n",
       "\n",
       "    .dataframe tbody tr th {\n",
       "        vertical-align: top;\n",
       "    }\n",
       "\n",
       "    .dataframe thead th {\n",
       "        text-align: right;\n",
       "    }\n",
       "</style>\n",
       "<table border=\"1\" class=\"dataframe\">\n",
       "  <thead>\n",
       "    <tr style=\"text-align: right;\">\n",
       "      <th></th>\n",
       "      <th>Code</th>\n",
       "      <th>Fehler</th>\n",
       "      <th>Anzahl</th>\n",
       "      <th>Beschreibung</th>\n",
       "    </tr>\n",
       "  </thead>\n",
       "  <tbody>\n",
       "    <tr>\n",
       "      <th>0</th>\n",
       "      <td>0</td>\n",
       "      <td>NO_ERROR</td>\n",
       "      <td>2317858</td>\n",
       "      <td>Kein Fehler</td>\n",
       "    </tr>\n",
       "    <tr>\n",
       "      <th>1</th>\n",
       "      <td>70</td>\n",
       "      <td>GAME_NOT_FINISHED</td>\n",
       "      <td>66718</td>\n",
       "      <td>Partie nicht zu Ende gespielt.</td>\n",
       "    </tr>\n",
       "    <tr>\n",
       "      <th>2</th>\n",
       "      <td>71</td>\n",
       "      <td>GAME_OVERPLAYED</td>\n",
       "      <td>1959</td>\n",
       "      <td>Ein oder mehrere Runden gespielt, obwohl die P...</td>\n",
       "    </tr>\n",
       "    <tr>\n",
       "      <th>3</th>\n",
       "      <td>80</td>\n",
       "      <td>ROUND_FAILED</td>\n",
       "      <td>11015</td>\n",
       "      <td>Mindestens eine Runde ist fehlerhaft.</td>\n",
       "    </tr>\n",
       "  </tbody>\n",
       "</table>\n",
       "</div>"
      ]
     },
     "execution_count": 1,
     "metadata": {},
     "output_type": "execute_result"
    }
   ],
   "execution_count": 1
  },
  {
   "metadata": {
    "SqlCellData": {
     "data_source_name": "bsw.sqlite",
     "variableName$1": "df_sql10"
    },
    "ExecuteTime": {
     "end_time": "2025-08-20T23:44:47.278805Z",
     "start_time": "2025-08-20T23:44:42.748627600Z"
    }
   },
   "cell_type": "code",
   "source": [
    "%%sql\n",
    "-- Anzahl Partien mit Spielerwechsel\n",
    "select count(*) as Partien from games where player_changed = 1"
   ],
   "id": "4560be2a025d7477",
   "outputs": [
    {
     "data": {
      "text/plain": [
       "   Partien\n",
       "0   160943"
      ],
      "text/html": [
       "<div>\n",
       "<style scoped>\n",
       "    .dataframe tbody tr th:only-of-type {\n",
       "        vertical-align: middle;\n",
       "    }\n",
       "\n",
       "    .dataframe tbody tr th {\n",
       "        vertical-align: top;\n",
       "    }\n",
       "\n",
       "    .dataframe thead th {\n",
       "        text-align: right;\n",
       "    }\n",
       "</style>\n",
       "<table border=\"1\" class=\"dataframe\">\n",
       "  <thead>\n",
       "    <tr style=\"text-align: right;\">\n",
       "      <th></th>\n",
       "      <th>Partien</th>\n",
       "    </tr>\n",
       "  </thead>\n",
       "  <tbody>\n",
       "    <tr>\n",
       "      <th>0</th>\n",
       "      <td>160943</td>\n",
       "    </tr>\n",
       "  </tbody>\n",
       "</table>\n",
       "</div>"
      ]
     },
     "execution_count": 3,
     "metadata": {},
     "output_type": "execute_result"
    }
   ],
   "execution_count": 3
  },
  {
   "metadata": {},
   "cell_type": "markdown",
   "source": [
    "Wurde weitergespielt, wegen Unentschieden?\n",
    "\n",
    "Nein, nicht deswegen. In zwei Spielen wurde nach Unentschieden über 1000 Punkte zwar weitergespielt, aber in beiden wurde auch vorher schon über das Ziel hinaus weitergespielt, und da stand eindeutig des Siegerteam fest.\n",
    "\n",
    "ALso, Gleichstand war nicht der Grund."
   ],
   "id": "b79b9a0acd3f7a3b"
  },
  {
   "metadata": {
    "SqlCellData": {
     "data_source_name": "bsw.sqlite",
     "variableName$1": "df_sql12"
    },
    "ExecuteTime": {
     "end_time": "2025-08-21T18:03:35.396783Z",
     "start_time": "2025-08-21T18:03:19.006735700Z"
    }
   },
   "cell_type": "code",
   "source": [
    "%%sql\n",
    "-- Wegen Unentschieden weitergespielt\n",
    "select * from rounds where score_cum_20 == score_cum_31 and score_cum_20 >= 1000"
   ],
   "id": "9e70f3198d9e9b1",
   "outputs": [
    {
     "data": {
      "text/plain": [
       "        id  game_id  round_index  score_cum_20  score_cum_31  wish_value  \\\n",
       "0  2594118   264153           16          1300          1300           2   \n",
       "1  2623727   267189           14          1050          1050           2   \n",
       "\n",
       "   dragon_giver  dragon_recipient  gift_relative_index  is_phoenix_low  \\\n",
       "0             3                 0                    1               0   \n",
       "1             3                 0                    1               0   \n",
       "\n",
       "   winner_index  winner_position  loser_index  is_double_victory  score_20  \\\n",
       "0             2               16            0                  0       240   \n",
       "1             2               27            0                  0       235   \n",
       "\n",
       "   score_31  score_diff                                            history  \\\n",
       "0        60         180  2:SB|3:BK|0|1|2:BA|3|0|1;2|2:G9R8B7G6R5G4G3PhM...   \n",
       "1        65         170  2:Ma|3:S2|0:B3|1:R5|2:RA|3|0|1;2|2:Hu|0:RZ|1|2...   \n",
       "\n",
       "   error_code  error_context  \n",
       "0           0            NaN  \n",
       "1           0            NaN  "
      ],
      "text/html": [
       "<div>\n",
       "<style scoped>\n",
       "    .dataframe tbody tr th:only-of-type {\n",
       "        vertical-align: middle;\n",
       "    }\n",
       "\n",
       "    .dataframe tbody tr th {\n",
       "        vertical-align: top;\n",
       "    }\n",
       "\n",
       "    .dataframe thead th {\n",
       "        text-align: right;\n",
       "    }\n",
       "</style>\n",
       "<table border=\"1\" class=\"dataframe\">\n",
       "  <thead>\n",
       "    <tr style=\"text-align: right;\">\n",
       "      <th></th>\n",
       "      <th>id</th>\n",
       "      <th>game_id</th>\n",
       "      <th>round_index</th>\n",
       "      <th>score_cum_20</th>\n",
       "      <th>score_cum_31</th>\n",
       "      <th>wish_value</th>\n",
       "      <th>dragon_giver</th>\n",
       "      <th>dragon_recipient</th>\n",
       "      <th>gift_relative_index</th>\n",
       "      <th>is_phoenix_low</th>\n",
       "      <th>winner_index</th>\n",
       "      <th>winner_position</th>\n",
       "      <th>loser_index</th>\n",
       "      <th>is_double_victory</th>\n",
       "      <th>score_20</th>\n",
       "      <th>score_31</th>\n",
       "      <th>score_diff</th>\n",
       "      <th>history</th>\n",
       "      <th>error_code</th>\n",
       "      <th>error_context</th>\n",
       "    </tr>\n",
       "  </thead>\n",
       "  <tbody>\n",
       "    <tr>\n",
       "      <th>0</th>\n",
       "      <td>2594118</td>\n",
       "      <td>264153</td>\n",
       "      <td>16</td>\n",
       "      <td>1300</td>\n",
       "      <td>1300</td>\n",
       "      <td>2</td>\n",
       "      <td>3</td>\n",
       "      <td>0</td>\n",
       "      <td>1</td>\n",
       "      <td>0</td>\n",
       "      <td>2</td>\n",
       "      <td>16</td>\n",
       "      <td>0</td>\n",
       "      <td>0</td>\n",
       "      <td>240</td>\n",
       "      <td>60</td>\n",
       "      <td>180</td>\n",
       "      <td>2:SB|3:BK|0|1|2:BA|3|0|1;2|2:G9R8B7G6R5G4G3PhM...</td>\n",
       "      <td>0</td>\n",
       "      <td>NaN</td>\n",
       "    </tr>\n",
       "    <tr>\n",
       "      <th>1</th>\n",
       "      <td>2623727</td>\n",
       "      <td>267189</td>\n",
       "      <td>14</td>\n",
       "      <td>1050</td>\n",
       "      <td>1050</td>\n",
       "      <td>2</td>\n",
       "      <td>3</td>\n",
       "      <td>0</td>\n",
       "      <td>1</td>\n",
       "      <td>0</td>\n",
       "      <td>2</td>\n",
       "      <td>27</td>\n",
       "      <td>0</td>\n",
       "      <td>0</td>\n",
       "      <td>235</td>\n",
       "      <td>65</td>\n",
       "      <td>170</td>\n",
       "      <td>2:Ma|3:S2|0:B3|1:R5|2:RA|3|0|1;2|2:Hu|0:RZ|1|2...</td>\n",
       "      <td>0</td>\n",
       "      <td>NaN</td>\n",
       "    </tr>\n",
       "  </tbody>\n",
       "</table>\n",
       "</div>"
      ]
     },
     "execution_count": 2,
     "metadata": {},
     "output_type": "execute_result"
    }
   ],
   "execution_count": 2
  },
  {
   "metadata": {},
   "cell_type": "markdown",
   "source": [
    "### 1.2 Anzahl Runden\n",
    "\n",
    "*   22.458.253 Runden insgesamt.\n",
    "*   22.437.758 Runden fehlerfrei\n",
    "*   22.000.517 Runden unter den fehlerfreien Partien (durchschnittlich 9,5 Runden / Partie)\n",
    "*   88.002.068 \"Perspektiv-Runden\""
   ],
   "id": "75829482eac5408f"
  },
  {
   "metadata": {
    "SqlCellData": {
     "data_source_name": "bsw.sqlite",
     "variableName$1": "df_sql8"
    },
    "ExecuteTime": {
     "end_time": "2025-08-20T23:44:52.944263Z",
     "start_time": "2025-08-20T23:44:52.590951800Z"
    }
   },
   "cell_type": "code",
   "source": [
    "%%sql\n",
    "-- Anzahl Runden gesamt\n",
    "select count(*) as Runden from rounds;"
   ],
   "id": "1c4ec7663793636c",
   "outputs": [
    {
     "data": {
      "text/plain": [
       "     Runden\n",
       "0  22458253"
      ],
      "text/html": [
       "<div>\n",
       "<style scoped>\n",
       "    .dataframe tbody tr th:only-of-type {\n",
       "        vertical-align: middle;\n",
       "    }\n",
       "\n",
       "    .dataframe tbody tr th {\n",
       "        vertical-align: top;\n",
       "    }\n",
       "\n",
       "    .dataframe thead th {\n",
       "        text-align: right;\n",
       "    }\n",
       "</style>\n",
       "<table border=\"1\" class=\"dataframe\">\n",
       "  <thead>\n",
       "    <tr style=\"text-align: right;\">\n",
       "      <th></th>\n",
       "      <th>Runden</th>\n",
       "    </tr>\n",
       "  </thead>\n",
       "  <tbody>\n",
       "    <tr>\n",
       "      <th>0</th>\n",
       "      <td>22458253</td>\n",
       "    </tr>\n",
       "  </tbody>\n",
       "</table>\n",
       "</div>"
      ]
     },
     "execution_count": 5,
     "metadata": {},
     "output_type": "execute_result"
    }
   ],
   "execution_count": 5
  },
  {
   "metadata": {
    "SqlCellData": {
     "data_source_name": "bsw.sqlite",
     "variableName$1": "df_sql5"
    },
    "ExecuteTime": {
     "end_time": "2025-08-21T18:13:28.113260Z",
     "start_time": "2025-08-21T18:13:20.535723600Z"
    }
   },
   "cell_type": "code",
   "source": [
    "%%sql\n",
    "-- Anzahl Runden groupiert nach Fehlern\n",
    "select r.error_code as Code, e.name as Fehler, count(*) as Anzahl, e.description as Beschreibung\n",
    "from rounds as r\n",
    "left join errors as e on r.error_code = e.code\n",
    "group by r.error_code\n",
    "order by r.error_code;"
   ],
   "id": "2b2690d0681fed66",
   "outputs": [
    {
     "data": {
      "text/plain": [
       "   Code                     Fehler    Anzahl  \\\n",
       "0     0                   NO_ERROR  22437758   \n",
       "1    12             DUPLICATE_CARD        10   \n",
       "2    21          WISH_NOT_FOLLOWED       209   \n",
       "3    23         PLAYER_NOT_ON_TURN         2   \n",
       "4    25           HISTORY_TOO_LONG        60   \n",
       "5    31   DRAGON_GIVEN_TO_OWN_TEAM       306   \n",
       "6    50  ANNOUNCEMENT_NOT_POSSIBLE       286   \n",
       "7    60         SCORE_NOT_POSSIBLE     17258   \n",
       "8    61             SCORE_MISMATCH      2364   \n",
       "\n",
       "                                        Beschreibung  \n",
       "0                                        Kein Fehler  \n",
       "1                         Karten mehrmals vorhanden.  \n",
       "2                             Wunsch nicht beachtet.  \n",
       "3                      Der Spieler ist nicht am Zug.  \n",
       "4  Karten ausgespielt, obwohl die Runde vorbei is...  \n",
       "5                 Drache an eigenes Team verschenkt.  \n",
       "6  Tichu-Ansage an der geloggten Position nicht m...  \n",
       "7  Rechenfehler! Geloggtes Rundenergebnis ist nic...  \n",
       "8  Geloggtes Rundenergebnis stimmt nicht mit dem ...  "
      ],
      "text/html": [
       "<div>\n",
       "<style scoped>\n",
       "    .dataframe tbody tr th:only-of-type {\n",
       "        vertical-align: middle;\n",
       "    }\n",
       "\n",
       "    .dataframe tbody tr th {\n",
       "        vertical-align: top;\n",
       "    }\n",
       "\n",
       "    .dataframe thead th {\n",
       "        text-align: right;\n",
       "    }\n",
       "</style>\n",
       "<table border=\"1\" class=\"dataframe\">\n",
       "  <thead>\n",
       "    <tr style=\"text-align: right;\">\n",
       "      <th></th>\n",
       "      <th>Code</th>\n",
       "      <th>Fehler</th>\n",
       "      <th>Anzahl</th>\n",
       "      <th>Beschreibung</th>\n",
       "    </tr>\n",
       "  </thead>\n",
       "  <tbody>\n",
       "    <tr>\n",
       "      <th>0</th>\n",
       "      <td>0</td>\n",
       "      <td>NO_ERROR</td>\n",
       "      <td>22437758</td>\n",
       "      <td>Kein Fehler</td>\n",
       "    </tr>\n",
       "    <tr>\n",
       "      <th>1</th>\n",
       "      <td>12</td>\n",
       "      <td>DUPLICATE_CARD</td>\n",
       "      <td>10</td>\n",
       "      <td>Karten mehrmals vorhanden.</td>\n",
       "    </tr>\n",
       "    <tr>\n",
       "      <th>2</th>\n",
       "      <td>21</td>\n",
       "      <td>WISH_NOT_FOLLOWED</td>\n",
       "      <td>209</td>\n",
       "      <td>Wunsch nicht beachtet.</td>\n",
       "    </tr>\n",
       "    <tr>\n",
       "      <th>3</th>\n",
       "      <td>23</td>\n",
       "      <td>PLAYER_NOT_ON_TURN</td>\n",
       "      <td>2</td>\n",
       "      <td>Der Spieler ist nicht am Zug.</td>\n",
       "    </tr>\n",
       "    <tr>\n",
       "      <th>4</th>\n",
       "      <td>25</td>\n",
       "      <td>HISTORY_TOO_LONG</td>\n",
       "      <td>60</td>\n",
       "      <td>Karten ausgespielt, obwohl die Runde vorbei is...</td>\n",
       "    </tr>\n",
       "    <tr>\n",
       "      <th>5</th>\n",
       "      <td>31</td>\n",
       "      <td>DRAGON_GIVEN_TO_OWN_TEAM</td>\n",
       "      <td>306</td>\n",
       "      <td>Drache an eigenes Team verschenkt.</td>\n",
       "    </tr>\n",
       "    <tr>\n",
       "      <th>6</th>\n",
       "      <td>50</td>\n",
       "      <td>ANNOUNCEMENT_NOT_POSSIBLE</td>\n",
       "      <td>286</td>\n",
       "      <td>Tichu-Ansage an der geloggten Position nicht m...</td>\n",
       "    </tr>\n",
       "    <tr>\n",
       "      <th>7</th>\n",
       "      <td>60</td>\n",
       "      <td>SCORE_NOT_POSSIBLE</td>\n",
       "      <td>17258</td>\n",
       "      <td>Rechenfehler! Geloggtes Rundenergebnis ist nic...</td>\n",
       "    </tr>\n",
       "    <tr>\n",
       "      <th>8</th>\n",
       "      <td>61</td>\n",
       "      <td>SCORE_MISMATCH</td>\n",
       "      <td>2364</td>\n",
       "      <td>Geloggtes Rundenergebnis stimmt nicht mit dem ...</td>\n",
       "    </tr>\n",
       "  </tbody>\n",
       "</table>\n",
       "</div>"
      ]
     },
     "execution_count": 3,
     "metadata": {},
     "output_type": "execute_result"
    }
   ],
   "execution_count": 3
  },
  {
   "metadata": {
    "SqlCellData": {
     "data_source_name": "bsw.sqlite",
     "variableName$1": "df_sql6"
    },
    "ExecuteTime": {
     "end_time": "2025-08-20T23:44:58.903518Z",
     "start_time": "2025-08-20T23:44:58.818431400Z"
    }
   },
   "cell_type": "code",
   "source": [
    "%%sql\n",
    "-- Anzahl Fälle, in denen der Phönix den niedrigeren Rang mimt\n",
    "select count(*) as Runden from rounds where is_phoenix_low = 1"
   ],
   "id": "7a3a4668237f3410",
   "outputs": [
    {
     "data": {
      "text/plain": [
       "   Runden\n",
       "0   21267"
      ],
      "text/html": [
       "<div>\n",
       "<style scoped>\n",
       "    .dataframe tbody tr th:only-of-type {\n",
       "        vertical-align: middle;\n",
       "    }\n",
       "\n",
       "    .dataframe tbody tr th {\n",
       "        vertical-align: top;\n",
       "    }\n",
       "\n",
       "    .dataframe thead th {\n",
       "        text-align: right;\n",
       "    }\n",
       "</style>\n",
       "<table border=\"1\" class=\"dataframe\">\n",
       "  <thead>\n",
       "    <tr style=\"text-align: right;\">\n",
       "      <th></th>\n",
       "      <th>Runden</th>\n",
       "    </tr>\n",
       "  </thead>\n",
       "  <tbody>\n",
       "    <tr>\n",
       "      <th>0</th>\n",
       "      <td>21267</td>\n",
       "    </tr>\n",
       "  </tbody>\n",
       "</table>\n",
       "</div>"
      ]
     },
     "execution_count": 7,
     "metadata": {},
     "output_type": "execute_result"
    }
   ],
   "execution_count": 7
  },
  {
   "metadata": {
    "SqlCellData": {
     "data_source_name": "bsw.sqlite",
     "variableName$1": "df_sql7"
    },
    "ExecuteTime": {
     "end_time": "2025-08-20T23:47:20.575273Z",
     "start_time": "2025-08-20T23:45:00.339637Z"
    }
   },
   "cell_type": "code",
   "source": [
    "%%sql\n",
    "-- Tichu-Ansage, obwohl ein Mitspieler bereits fertig ist\n",
    "select count(*) as Ansagen from players_rounds where is_tichu_suicidal = 1"
   ],
   "id": "56819b6a78e2c90",
   "outputs": [
    {
     "data": {
      "text/plain": [
       "   Ansagen\n",
       "0     2034"
      ],
      "text/html": [
       "<div>\n",
       "<style scoped>\n",
       "    .dataframe tbody tr th:only-of-type {\n",
       "        vertical-align: middle;\n",
       "    }\n",
       "\n",
       "    .dataframe tbody tr th {\n",
       "        vertical-align: top;\n",
       "    }\n",
       "\n",
       "    .dataframe thead th {\n",
       "        text-align: right;\n",
       "    }\n",
       "</style>\n",
       "<table border=\"1\" class=\"dataframe\">\n",
       "  <thead>\n",
       "    <tr style=\"text-align: right;\">\n",
       "      <th></th>\n",
       "      <th>Ansagen</th>\n",
       "    </tr>\n",
       "  </thead>\n",
       "  <tbody>\n",
       "    <tr>\n",
       "      <th>0</th>\n",
       "      <td>2034</td>\n",
       "    </tr>\n",
       "  </tbody>\n",
       "</table>\n",
       "</div>"
      ]
     },
     "execution_count": 8,
     "metadata": {},
     "output_type": "execute_result"
    }
   ],
   "execution_count": 8
  },
  {
   "metadata": {
    "SqlCellData": {
     "data_source_name": "bsw.sqlite",
     "variableName$1": "df_sql9"
    },
    "ExecuteTime": {
     "end_time": "2025-08-21T18:21:44.473741Z",
     "start_time": "2025-08-21T18:21:35.044928200Z"
    }
   },
   "cell_type": "code",
   "source": [
    "%%sql\n",
    "-- Anzahl Runden unter den fehlerfreien Partien\n",
    "select count(*) as Runden\n",
    "from rounds as r\n",
    "inner join games as g on g.id = r.game_id\n",
    "where g.error_code = 0;"
   ],
   "id": "178dead0b384d0c4",
   "outputs": [
    {
     "data": {
      "text/plain": [
       "     Runden\n",
       "0  22000148"
      ],
      "text/html": [
       "<div>\n",
       "<style scoped>\n",
       "    .dataframe tbody tr th:only-of-type {\n",
       "        vertical-align: middle;\n",
       "    }\n",
       "\n",
       "    .dataframe tbody tr th {\n",
       "        vertical-align: top;\n",
       "    }\n",
       "\n",
       "    .dataframe thead th {\n",
       "        text-align: right;\n",
       "    }\n",
       "</style>\n",
       "<table border=\"1\" class=\"dataframe\">\n",
       "  <thead>\n",
       "    <tr style=\"text-align: right;\">\n",
       "      <th></th>\n",
       "      <th>Runden</th>\n",
       "    </tr>\n",
       "  </thead>\n",
       "  <tbody>\n",
       "    <tr>\n",
       "      <th>0</th>\n",
       "      <td>22000148</td>\n",
       "    </tr>\n",
       "  </tbody>\n",
       "</table>\n",
       "</div>"
      ]
     },
     "execution_count": 4,
     "metadata": {},
     "output_type": "execute_result"
    }
   ],
   "execution_count": 4
  },
  {
   "metadata": {
    "ExecuteTime": {
     "end_time": "2025-08-21T18:23:29.607259Z",
     "start_time": "2025-08-21T18:23:29.599778Z"
    }
   },
   "cell_type": "code",
   "source": [
    "# Runden unter fehlerfreien Partien / fehlerfreie Partien\n",
    "22000148 / 2317858"
   ],
   "id": "a9b9be4583d8925e",
   "outputs": [
    {
     "data": {
      "text/plain": [
       "9.491585765823446"
      ]
     },
     "execution_count": 5,
     "metadata": {},
     "output_type": "execute_result"
    }
   ],
   "execution_count": 5
  },
  {
   "metadata": {
    "ExecuteTime": {
     "end_time": "2025-08-21T18:24:14.577116Z",
     "start_time": "2025-08-21T18:24:14.568373Z"
    }
   },
   "cell_type": "code",
   "source": [
    "# \"Perspektiv-Runden\" = Runden unter fehlerfreien Partien * 4\n",
    "22000148 * 4"
   ],
   "id": "963060b37433f045",
   "outputs": [
    {
     "data": {
      "text/plain": [
       "88000592"
      ]
     },
     "execution_count": 6,
     "metadata": {},
     "output_type": "execute_result"
    }
   ],
   "execution_count": 6
  },
  {
   "metadata": {},
   "cell_type": "markdown",
   "source": [
    "### 1.3 Anzahl Spieler\n",
    "\n",
    "*   128.462 Spieler insgesamt\n",
    "*   125.646 Spieler, die eine fehlerfreie Partie durchgespielt haben"
   ],
   "id": "4c2d4b3779209e19"
  },
  {
   "metadata": {
    "SqlCellData": {
     "data_source_name": "bsw.sqlite",
     "variableName$1": "df_sql2"
    },
    "ExecuteTime": {
     "end_time": "2025-08-20T23:47:36.821841Z",
     "start_time": "2025-08-20T23:47:36.729778600Z"
    }
   },
   "cell_type": "code",
   "source": [
    "%%sql\n",
    "-- Anzahl Spieler gesamt\n",
    "select count(*) as Spieler from players;"
   ],
   "id": "dd71f0daeacaae3",
   "outputs": [
    {
     "data": {
      "text/plain": [
       "   Spieler\n",
       "0   128462"
      ],
      "text/html": [
       "<div>\n",
       "<style scoped>\n",
       "    .dataframe tbody tr th:only-of-type {\n",
       "        vertical-align: middle;\n",
       "    }\n",
       "\n",
       "    .dataframe tbody tr th {\n",
       "        vertical-align: top;\n",
       "    }\n",
       "\n",
       "    .dataframe thead th {\n",
       "        text-align: right;\n",
       "    }\n",
       "</style>\n",
       "<table border=\"1\" class=\"dataframe\">\n",
       "  <thead>\n",
       "    <tr style=\"text-align: right;\">\n",
       "      <th></th>\n",
       "      <th>Spieler</th>\n",
       "    </tr>\n",
       "  </thead>\n",
       "  <tbody>\n",
       "    <tr>\n",
       "      <th>0</th>\n",
       "      <td>128462</td>\n",
       "    </tr>\n",
       "  </tbody>\n",
       "</table>\n",
       "</div>"
      ]
     },
     "execution_count": 12,
     "metadata": {},
     "output_type": "execute_result"
    }
   ],
   "execution_count": 12
  },
  {
   "metadata": {
    "SqlCellData": {
     "data_source_name": "bsw.sqlite",
     "variableName$1": "df_sql3"
    },
    "ExecuteTime": {
     "end_time": "2025-08-21T18:30:17.118432Z",
     "start_time": "2025-08-21T18:25:37.921659600Z"
    }
   },
   "cell_type": "code",
   "source": [
    "%%sql\n",
    "-- Anzahl Spieler, die eine fehlerfreie Partie durchgespielt haben\n",
    "select count(distinct pr.player_id) as Spieler\n",
    "from games as g\n",
    "inner join rounds as r on g.id = r.game_id\n",
    "inner join main.players_rounds as pr on r.id = pr.round_id\n",
    "where g.error_code = 0\n"
   ],
   "id": "a10e6a3595752bd8",
   "outputs": [
    {
     "data": {
      "text/plain": [
       "   Spieler\n",
       "0   125646"
      ],
      "text/html": [
       "<div>\n",
       "<style scoped>\n",
       "    .dataframe tbody tr th:only-of-type {\n",
       "        vertical-align: middle;\n",
       "    }\n",
       "\n",
       "    .dataframe tbody tr th {\n",
       "        vertical-align: top;\n",
       "    }\n",
       "\n",
       "    .dataframe thead th {\n",
       "        text-align: right;\n",
       "    }\n",
       "</style>\n",
       "<table border=\"1\" class=\"dataframe\">\n",
       "  <thead>\n",
       "    <tr style=\"text-align: right;\">\n",
       "      <th></th>\n",
       "      <th>Spieler</th>\n",
       "    </tr>\n",
       "  </thead>\n",
       "  <tbody>\n",
       "    <tr>\n",
       "      <th>0</th>\n",
       "      <td>125646</td>\n",
       "    </tr>\n",
       "  </tbody>\n",
       "</table>\n",
       "</div>"
      ]
     },
     "execution_count": 7,
     "metadata": {},
     "output_type": "execute_result"
    }
   ],
   "execution_count": 7
  },
  {
   "metadata": {},
   "cell_type": "markdown",
   "source": [
    "### 1.4 Anzahl Spielzüge und Stiche\n",
    "\n",
    "Über alle fehlerfreien Partien:\n",
    "*   11,0 Stiche pro Runde\n",
    "*   56,445 Spielzüge pro Runde\n",
    "*   1.241.791.952 Spielzüge\n",
    "\n",
    "\n",
    "Im Spiel mit 4 HeuristicAgents fallen ca. 10.8 Stiche/Runde (so häufig wurden Karten kassiert).\n"
   ],
   "id": "29ebdfcc14265982"
  },
  {
   "metadata": {
    "SqlCellData": {
     "data_source_name": "bsw.sqlite",
     "variableName$1": "df_sql11"
    },
    "ExecuteTime": {
     "end_time": "2025-08-21T18:31:31.035023Z",
     "start_time": "2025-08-21T18:31:25.418989500Z"
    }
   },
   "cell_type": "code",
   "source": [
    "%%sql\n",
    "select\n",
    "   sum(avg_tricks_per_round * num_rounds) / sum(num_rounds) as Stiche_pro_Runde,\n",
    "   sum(avg_turns_per_round * num_rounds) / sum(num_rounds) as Spielzuege_pro_Runde,\n",
    "   sum(avg_turns_per_round * num_rounds) as Spielzuege\n",
    "from games\n",
    "where error_code = 0"
   ],
   "id": "a8134dde7f8c1309",
   "outputs": [
    {
     "data": {
      "text/plain": [
       "   Stiche_pro_Runde  Spielzuege_pro_Runde  Spielzuege\n",
       "0         11.014755             56.444709  1241791952"
      ],
      "text/html": [
       "<div>\n",
       "<style scoped>\n",
       "    .dataframe tbody tr th:only-of-type {\n",
       "        vertical-align: middle;\n",
       "    }\n",
       "\n",
       "    .dataframe tbody tr th {\n",
       "        vertical-align: top;\n",
       "    }\n",
       "\n",
       "    .dataframe thead th {\n",
       "        text-align: right;\n",
       "    }\n",
       "</style>\n",
       "<table border=\"1\" class=\"dataframe\">\n",
       "  <thead>\n",
       "    <tr style=\"text-align: right;\">\n",
       "      <th></th>\n",
       "      <th>Stiche_pro_Runde</th>\n",
       "      <th>Spielzuege_pro_Runde</th>\n",
       "      <th>Spielzuege</th>\n",
       "    </tr>\n",
       "  </thead>\n",
       "  <tbody>\n",
       "    <tr>\n",
       "      <th>0</th>\n",
       "      <td>11.014755</td>\n",
       "      <td>56.444709</td>\n",
       "      <td>1241791952</td>\n",
       "    </tr>\n",
       "  </tbody>\n",
       "</table>\n",
       "</div>"
      ]
     },
     "execution_count": 8,
     "metadata": {},
     "output_type": "execute_result"
    }
   ],
   "execution_count": 8
  }
 ],
 "metadata": {
  "kernelspec": {
   "display_name": "Python 3",
   "language": "python",
   "name": "python3"
  },
  "language_info": {
   "codemirror_mode": {
    "name": "ipython",
    "version": 2
   },
   "file_extension": ".py",
   "mimetype": "text/x-python",
   "name": "python",
   "nbconvert_exporter": "python",
   "pygments_lexer": "ipython2",
   "version": "2.7.6"
  }
 },
 "nbformat": 4,
 "nbformat_minor": 5
}
